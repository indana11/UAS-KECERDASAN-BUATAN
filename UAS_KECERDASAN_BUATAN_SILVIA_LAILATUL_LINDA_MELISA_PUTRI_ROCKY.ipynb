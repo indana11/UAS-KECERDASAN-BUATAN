{
  "nbformat": 4,
  "nbformat_minor": 0,
  "metadata": {
    "colab": {
      "name": "UAS_KECERDASAN BUATAN.ipynb",
      "provenance": []
    },
    "kernelspec": {
      "name": "python3",
      "display_name": "Python 3"
    },
    "language_info": {
      "name": "python"
    }
  },
  "cells": [
    {
      "cell_type": "code",
      "execution_count": 1,
      "metadata": {
        "id": "vb8mZ5mlw1h4"
      },
      "outputs": [],
      "source": [
        "import matplotlib.pyplot as plt\n",
        "import numpy as np\n",
        "import pandas as pd\n",
        "import seaborn as sns\n",
        "\n",
        "from sklearn.cluster import KMeans\n",
        "from sklearn.mixture import GaussianMixture\n",
        "from sklearn.metrics import accuracy_score, confusion_matrix\n",
        "from sklearn.model_selection import train_test_split\n",
        "from sklearn.linear_model import LinearRegression"
      ]
    },
    {
      "cell_type": "code",
      "source": [
        "import pandas as pd\n",
        "from google.colab import files\n",
        "filenya = files.upload()"
      ],
      "metadata": {
        "colab": {
          "resources": {
            "http://localhost:8080/nbextensions/google.colab/files.js": {
              "data": "Ly8gQ29weXJpZ2h0IDIwMTcgR29vZ2xlIExMQwovLwovLyBMaWNlbnNlZCB1bmRlciB0aGUgQXBhY2hlIExpY2Vuc2UsIFZlcnNpb24gMi4wICh0aGUgIkxpY2Vuc2UiKTsKLy8geW91IG1heSBub3QgdXNlIHRoaXMgZmlsZSBleGNlcHQgaW4gY29tcGxpYW5jZSB3aXRoIHRoZSBMaWNlbnNlLgovLyBZb3UgbWF5IG9idGFpbiBhIGNvcHkgb2YgdGhlIExpY2Vuc2UgYXQKLy8KLy8gICAgICBodHRwOi8vd3d3LmFwYWNoZS5vcmcvbGljZW5zZXMvTElDRU5TRS0yLjAKLy8KLy8gVW5sZXNzIHJlcXVpcmVkIGJ5IGFwcGxpY2FibGUgbGF3IG9yIGFncmVlZCB0byBpbiB3cml0aW5nLCBzb2Z0d2FyZQovLyBkaXN0cmlidXRlZCB1bmRlciB0aGUgTGljZW5zZSBpcyBkaXN0cmlidXRlZCBvbiBhbiAiQVMgSVMiIEJBU0lTLAovLyBXSVRIT1VUIFdBUlJBTlRJRVMgT1IgQ09ORElUSU9OUyBPRiBBTlkgS0lORCwgZWl0aGVyIGV4cHJlc3Mgb3IgaW1wbGllZC4KLy8gU2VlIHRoZSBMaWNlbnNlIGZvciB0aGUgc3BlY2lmaWMgbGFuZ3VhZ2UgZ292ZXJuaW5nIHBlcm1pc3Npb25zIGFuZAovLyBsaW1pdGF0aW9ucyB1bmRlciB0aGUgTGljZW5zZS4KCi8qKgogKiBAZmlsZW92ZXJ2aWV3IEhlbHBlcnMgZm9yIGdvb2dsZS5jb2xhYiBQeXRob24gbW9kdWxlLgogKi8KKGZ1bmN0aW9uKHNjb3BlKSB7CmZ1bmN0aW9uIHNwYW4odGV4dCwgc3R5bGVBdHRyaWJ1dGVzID0ge30pIHsKICBjb25zdCBlbGVtZW50ID0gZG9jdW1lbnQuY3JlYXRlRWxlbWVudCgnc3BhbicpOwogIGVsZW1lbnQudGV4dENvbnRlbnQgPSB0ZXh0OwogIGZvciAoY29uc3Qga2V5IG9mIE9iamVjdC5rZXlzKHN0eWxlQXR0cmlidXRlcykpIHsKICAgIGVsZW1lbnQuc3R5bGVba2V5XSA9IHN0eWxlQXR0cmlidXRlc1trZXldOwogIH0KICByZXR1cm4gZWxlbWVudDsKfQoKLy8gTWF4IG51bWJlciBvZiBieXRlcyB3aGljaCB3aWxsIGJlIHVwbG9hZGVkIGF0IGEgdGltZS4KY29uc3QgTUFYX1BBWUxPQURfU0laRSA9IDEwMCAqIDEwMjQ7CgpmdW5jdGlvbiBfdXBsb2FkRmlsZXMoaW5wdXRJZCwgb3V0cHV0SWQpIHsKICBjb25zdCBzdGVwcyA9IHVwbG9hZEZpbGVzU3RlcChpbnB1dElkLCBvdXRwdXRJZCk7CiAgY29uc3Qgb3V0cHV0RWxlbWVudCA9IGRvY3VtZW50LmdldEVsZW1lbnRCeUlkKG91dHB1dElkKTsKICAvLyBDYWNoZSBzdGVwcyBvbiB0aGUgb3V0cHV0RWxlbWVudCB0byBtYWtlIGl0IGF2YWlsYWJsZSBmb3IgdGhlIG5leHQgY2FsbAogIC8vIHRvIHVwbG9hZEZpbGVzQ29udGludWUgZnJvbSBQeXRob24uCiAgb3V0cHV0RWxlbWVudC5zdGVwcyA9IHN0ZXBzOwoKICByZXR1cm4gX3VwbG9hZEZpbGVzQ29udGludWUob3V0cHV0SWQpOwp9CgovLyBUaGlzIGlzIHJvdWdobHkgYW4gYXN5bmMgZ2VuZXJhdG9yIChub3Qgc3VwcG9ydGVkIGluIHRoZSBicm93c2VyIHlldCksCi8vIHdoZXJlIHRoZXJlIGFyZSBtdWx0aXBsZSBhc3luY2hyb25vdXMgc3RlcHMgYW5kIHRoZSBQeXRob24gc2lkZSBpcyBnb2luZwovLyB0byBwb2xsIGZvciBjb21wbGV0aW9uIG9mIGVhY2ggc3RlcC4KLy8gVGhpcyB1c2VzIGEgUHJvbWlzZSB0byBibG9jayB0aGUgcHl0aG9uIHNpZGUgb24gY29tcGxldGlvbiBvZiBlYWNoIHN0ZXAsCi8vIHRoZW4gcGFzc2VzIHRoZSByZXN1bHQgb2YgdGhlIHByZXZpb3VzIHN0ZXAgYXMgdGhlIGlucHV0IHRvIHRoZSBuZXh0IHN0ZXAuCmZ1bmN0aW9uIF91cGxvYWRGaWxlc0NvbnRpbnVlKG91dHB1dElkKSB7CiAgY29uc3Qgb3V0cHV0RWxlbWVudCA9IGRvY3VtZW50LmdldEVsZW1lbnRCeUlkKG91dHB1dElkKTsKICBjb25zdCBzdGVwcyA9IG91dHB1dEVsZW1lbnQuc3RlcHM7CgogIGNvbnN0IG5leHQgPSBzdGVwcy5uZXh0KG91dHB1dEVsZW1lbnQubGFzdFByb21pc2VWYWx1ZSk7CiAgcmV0dXJuIFByb21pc2UucmVzb2x2ZShuZXh0LnZhbHVlLnByb21pc2UpLnRoZW4oKHZhbHVlKSA9PiB7CiAgICAvLyBDYWNoZSB0aGUgbGFzdCBwcm9taXNlIHZhbHVlIHRvIG1ha2UgaXQgYXZhaWxhYmxlIHRvIHRoZSBuZXh0CiAgICAvLyBzdGVwIG9mIHRoZSBnZW5lcmF0b3IuCiAgICBvdXRwdXRFbGVtZW50Lmxhc3RQcm9taXNlVmFsdWUgPSB2YWx1ZTsKICAgIHJldHVybiBuZXh0LnZhbHVlLnJlc3BvbnNlOwogIH0pOwp9CgovKioKICogR2VuZXJhdG9yIGZ1bmN0aW9uIHdoaWNoIGlzIGNhbGxlZCBiZXR3ZWVuIGVhY2ggYXN5bmMgc3RlcCBvZiB0aGUgdXBsb2FkCiAqIHByb2Nlc3MuCiAqIEBwYXJhbSB7c3RyaW5nfSBpbnB1dElkIEVsZW1lbnQgSUQgb2YgdGhlIGlucHV0IGZpbGUgcGlja2VyIGVsZW1lbnQuCiAqIEBwYXJhbSB7c3RyaW5nfSBvdXRwdXRJZCBFbGVtZW50IElEIG9mIHRoZSBvdXRwdXQgZGlzcGxheS4KICogQHJldHVybiB7IUl0ZXJhYmxlPCFPYmplY3Q+fSBJdGVyYWJsZSBvZiBuZXh0IHN0ZXBzLgogKi8KZnVuY3Rpb24qIHVwbG9hZEZpbGVzU3RlcChpbnB1dElkLCBvdXRwdXRJZCkgewogIGNvbnN0IGlucHV0RWxlbWVudCA9IGRvY3VtZW50LmdldEVsZW1lbnRCeUlkKGlucHV0SWQpOwogIGlucHV0RWxlbWVudC5kaXNhYmxlZCA9IGZhbHNlOwoKICBjb25zdCBvdXRwdXRFbGVtZW50ID0gZG9jdW1lbnQuZ2V0RWxlbWVudEJ5SWQob3V0cHV0SWQpOwogIG91dHB1dEVsZW1lbnQuaW5uZXJIVE1MID0gJyc7CgogIGNvbnN0IHBpY2tlZFByb21pc2UgPSBuZXcgUHJvbWlzZSgocmVzb2x2ZSkgPT4gewogICAgaW5wdXRFbGVtZW50LmFkZEV2ZW50TGlzdGVuZXIoJ2NoYW5nZScsIChlKSA9PiB7CiAgICAgIHJlc29sdmUoZS50YXJnZXQuZmlsZXMpOwogICAgfSk7CiAgfSk7CgogIGNvbnN0IGNhbmNlbCA9IGRvY3VtZW50LmNyZWF0ZUVsZW1lbnQoJ2J1dHRvbicpOwogIGlucHV0RWxlbWVudC5wYXJlbnRFbGVtZW50LmFwcGVuZENoaWxkKGNhbmNlbCk7CiAgY2FuY2VsLnRleHRDb250ZW50ID0gJ0NhbmNlbCB1cGxvYWQnOwogIGNvbnN0IGNhbmNlbFByb21pc2UgPSBuZXcgUHJvbWlzZSgocmVzb2x2ZSkgPT4gewogICAgY2FuY2VsLm9uY2xpY2sgPSAoKSA9PiB7CiAgICAgIHJlc29sdmUobnVsbCk7CiAgICB9OwogIH0pOwoKICAvLyBXYWl0IGZvciB0aGUgdXNlciB0byBwaWNrIHRoZSBmaWxlcy4KICBjb25zdCBmaWxlcyA9IHlpZWxkIHsKICAgIHByb21pc2U6IFByb21pc2UucmFjZShbcGlja2VkUHJvbWlzZSwgY2FuY2VsUHJvbWlzZV0pLAogICAgcmVzcG9uc2U6IHsKICAgICAgYWN0aW9uOiAnc3RhcnRpbmcnLAogICAgfQogIH07CgogIGNhbmNlbC5yZW1vdmUoKTsKCiAgLy8gRGlzYWJsZSB0aGUgaW5wdXQgZWxlbWVudCBzaW5jZSBmdXJ0aGVyIHBpY2tzIGFyZSBub3QgYWxsb3dlZC4KICBpbnB1dEVsZW1lbnQuZGlzYWJsZWQgPSB0cnVlOwoKICBpZiAoIWZpbGVzKSB7CiAgICByZXR1cm4gewogICAgICByZXNwb25zZTogewogICAgICAgIGFjdGlvbjogJ2NvbXBsZXRlJywKICAgICAgfQogICAgfTsKICB9CgogIGZvciAoY29uc3QgZmlsZSBvZiBmaWxlcykgewogICAgY29uc3QgbGkgPSBkb2N1bWVudC5jcmVhdGVFbGVtZW50KCdsaScpOwogICAgbGkuYXBwZW5kKHNwYW4oZmlsZS5uYW1lLCB7Zm9udFdlaWdodDogJ2JvbGQnfSkpOwogICAgbGkuYXBwZW5kKHNwYW4oCiAgICAgICAgYCgke2ZpbGUudHlwZSB8fCAnbi9hJ30pIC0gJHtmaWxlLnNpemV9IGJ5dGVzLCBgICsKICAgICAgICBgbGFzdCBtb2RpZmllZDogJHsKICAgICAgICAgICAgZmlsZS5sYXN0TW9kaWZpZWREYXRlID8gZmlsZS5sYXN0TW9kaWZpZWREYXRlLnRvTG9jYWxlRGF0ZVN0cmluZygpIDoKICAgICAgICAgICAgICAgICAgICAgICAgICAgICAgICAgICAgJ24vYSd9IC0gYCkpOwogICAgY29uc3QgcGVyY2VudCA9IHNwYW4oJzAlIGRvbmUnKTsKICAgIGxpLmFwcGVuZENoaWxkKHBlcmNlbnQpOwoKICAgIG91dHB1dEVsZW1lbnQuYXBwZW5kQ2hpbGQobGkpOwoKICAgIGNvbnN0IGZpbGVEYXRhUHJvbWlzZSA9IG5ldyBQcm9taXNlKChyZXNvbHZlKSA9PiB7CiAgICAgIGNvbnN0IHJlYWRlciA9IG5ldyBGaWxlUmVhZGVyKCk7CiAgICAgIHJlYWRlci5vbmxvYWQgPSAoZSkgPT4gewogICAgICAgIHJlc29sdmUoZS50YXJnZXQucmVzdWx0KTsKICAgICAgfTsKICAgICAgcmVhZGVyLnJlYWRBc0FycmF5QnVmZmVyKGZpbGUpOwogICAgfSk7CiAgICAvLyBXYWl0IGZvciB0aGUgZGF0YSB0byBiZSByZWFkeS4KICAgIGxldCBmaWxlRGF0YSA9IHlpZWxkIHsKICAgICAgcHJvbWlzZTogZmlsZURhdGFQcm9taXNlLAogICAgICByZXNwb25zZTogewogICAgICAgIGFjdGlvbjogJ2NvbnRpbnVlJywKICAgICAgfQogICAgfTsKCiAgICAvLyBVc2UgYSBjaHVua2VkIHNlbmRpbmcgdG8gYXZvaWQgbWVzc2FnZSBzaXplIGxpbWl0cy4gU2VlIGIvNjIxMTU2NjAuCiAgICBsZXQgcG9zaXRpb24gPSAwOwogICAgZG8gewogICAgICBjb25zdCBsZW5ndGggPSBNYXRoLm1pbihmaWxlRGF0YS5ieXRlTGVuZ3RoIC0gcG9zaXRpb24sIE1BWF9QQVlMT0FEX1NJWkUpOwogICAgICBjb25zdCBjaHVuayA9IG5ldyBVaW50OEFycmF5KGZpbGVEYXRhLCBwb3NpdGlvbiwgbGVuZ3RoKTsKICAgICAgcG9zaXRpb24gKz0gbGVuZ3RoOwoKICAgICAgY29uc3QgYmFzZTY0ID0gYnRvYShTdHJpbmcuZnJvbUNoYXJDb2RlLmFwcGx5KG51bGwsIGNodW5rKSk7CiAgICAgIHlpZWxkIHsKICAgICAgICByZXNwb25zZTogewogICAgICAgICAgYWN0aW9uOiAnYXBwZW5kJywKICAgICAgICAgIGZpbGU6IGZpbGUubmFtZSwKICAgICAgICAgIGRhdGE6IGJhc2U2NCwKICAgICAgICB9LAogICAgICB9OwoKICAgICAgbGV0IHBlcmNlbnREb25lID0gZmlsZURhdGEuYnl0ZUxlbmd0aCA9PT0gMCA/CiAgICAgICAgICAxMDAgOgogICAgICAgICAgTWF0aC5yb3VuZCgocG9zaXRpb24gLyBmaWxlRGF0YS5ieXRlTGVuZ3RoKSAqIDEwMCk7CiAgICAgIHBlcmNlbnQudGV4dENvbnRlbnQgPSBgJHtwZXJjZW50RG9uZX0lIGRvbmVgOwoKICAgIH0gd2hpbGUgKHBvc2l0aW9uIDwgZmlsZURhdGEuYnl0ZUxlbmd0aCk7CiAgfQoKICAvLyBBbGwgZG9uZS4KICB5aWVsZCB7CiAgICByZXNwb25zZTogewogICAgICBhY3Rpb246ICdjb21wbGV0ZScsCiAgICB9CiAgfTsKfQoKc2NvcGUuZ29vZ2xlID0gc2NvcGUuZ29vZ2xlIHx8IHt9OwpzY29wZS5nb29nbGUuY29sYWIgPSBzY29wZS5nb29nbGUuY29sYWIgfHwge307CnNjb3BlLmdvb2dsZS5jb2xhYi5fZmlsZXMgPSB7CiAgX3VwbG9hZEZpbGVzLAogIF91cGxvYWRGaWxlc0NvbnRpbnVlLAp9Owp9KShzZWxmKTsK",
              "ok": true,
              "headers": [
                [
                  "content-type",
                  "application/javascript"
                ]
              ],
              "status": 200,
              "status_text": ""
            }
          },
          "base_uri": "https://localhost:8080/",
          "height": 73
        },
        "id": "Wu6dlhTQxb_Z",
        "outputId": "b9ac74a1-f03e-430e-ad9f-01a497919937"
      },
      "execution_count": 2,
      "outputs": [
        {
          "output_type": "display_data",
          "data": {
            "text/html": [
              "\n",
              "     <input type=\"file\" id=\"files-14a685ab-2197-46b2-b27f-bbe5ed14b2fe\" name=\"files[]\" multiple disabled\n",
              "        style=\"border:none\" />\n",
              "     <output id=\"result-14a685ab-2197-46b2-b27f-bbe5ed14b2fe\">\n",
              "      Upload widget is only available when the cell has been executed in the\n",
              "      current browser session. Please rerun this cell to enable.\n",
              "      </output>\n",
              "      <script src=\"/nbextensions/google.colab/files.js\"></script> "
            ],
            "text/plain": [
              "<IPython.core.display.HTML object>"
            ]
          },
          "metadata": {}
        },
        {
          "output_type": "stream",
          "name": "stdout",
          "text": [
            "Saving avocado.csv to avocado.csv\n"
          ]
        }
      ]
    },
    {
      "cell_type": "code",
      "source": [
        "df = pd.read_csv('avocado.csv')\n",
        "df.head()"
      ],
      "metadata": {
        "colab": {
          "base_uri": "https://localhost:8080/",
          "height": 206
        },
        "id": "J8N_EoZwxqAY",
        "outputId": "f37903cc-423f-4c8b-a4aa-a5f12f408a8d"
      },
      "execution_count": 9,
      "outputs": [
        {
          "output_type": "execute_result",
          "data": {
            "text/html": [
              "\n",
              "  <div id=\"df-57f53d31-b122-43a5-ab9e-59b2d05a8288\">\n",
              "    <div class=\"colab-df-container\">\n",
              "      <div>\n",
              "<style scoped>\n",
              "    .dataframe tbody tr th:only-of-type {\n",
              "        vertical-align: middle;\n",
              "    }\n",
              "\n",
              "    .dataframe tbody tr th {\n",
              "        vertical-align: top;\n",
              "    }\n",
              "\n",
              "    .dataframe thead th {\n",
              "        text-align: right;\n",
              "    }\n",
              "</style>\n",
              "<table border=\"1\" class=\"dataframe\">\n",
              "  <thead>\n",
              "    <tr style=\"text-align: right;\">\n",
              "      <th></th>\n",
              "      <th>Unnamed: 0</th>\n",
              "      <th>Date</th>\n",
              "      <th>AveragePrice</th>\n",
              "      <th>Total Volume</th>\n",
              "      <th>4046</th>\n",
              "      <th>4225</th>\n",
              "      <th>4770</th>\n",
              "      <th>Total Bags</th>\n",
              "      <th>Small Bags</th>\n",
              "      <th>Large Bags</th>\n",
              "      <th>XLarge Bags</th>\n",
              "      <th>type</th>\n",
              "      <th>year</th>\n",
              "      <th>region</th>\n",
              "    </tr>\n",
              "  </thead>\n",
              "  <tbody>\n",
              "    <tr>\n",
              "      <th>0</th>\n",
              "      <td>0</td>\n",
              "      <td>2015-12-27</td>\n",
              "      <td>1.33</td>\n",
              "      <td>64236.62</td>\n",
              "      <td>1036.74</td>\n",
              "      <td>54454.85</td>\n",
              "      <td>48.16</td>\n",
              "      <td>8696.87</td>\n",
              "      <td>8603.62</td>\n",
              "      <td>93.25</td>\n",
              "      <td>0.0</td>\n",
              "      <td>conventional</td>\n",
              "      <td>2015</td>\n",
              "      <td>Albany</td>\n",
              "    </tr>\n",
              "    <tr>\n",
              "      <th>1</th>\n",
              "      <td>1</td>\n",
              "      <td>2015-12-20</td>\n",
              "      <td>1.35</td>\n",
              "      <td>54876.98</td>\n",
              "      <td>674.28</td>\n",
              "      <td>44638.81</td>\n",
              "      <td>58.33</td>\n",
              "      <td>9505.56</td>\n",
              "      <td>9408.07</td>\n",
              "      <td>97.49</td>\n",
              "      <td>0.0</td>\n",
              "      <td>conventional</td>\n",
              "      <td>2015</td>\n",
              "      <td>Albany</td>\n",
              "    </tr>\n",
              "    <tr>\n",
              "      <th>2</th>\n",
              "      <td>2</td>\n",
              "      <td>2015-12-13</td>\n",
              "      <td>0.93</td>\n",
              "      <td>118220.22</td>\n",
              "      <td>794.70</td>\n",
              "      <td>109149.67</td>\n",
              "      <td>130.50</td>\n",
              "      <td>8145.35</td>\n",
              "      <td>8042.21</td>\n",
              "      <td>103.14</td>\n",
              "      <td>0.0</td>\n",
              "      <td>conventional</td>\n",
              "      <td>2015</td>\n",
              "      <td>Albany</td>\n",
              "    </tr>\n",
              "    <tr>\n",
              "      <th>3</th>\n",
              "      <td>3</td>\n",
              "      <td>2015-12-06</td>\n",
              "      <td>1.08</td>\n",
              "      <td>78992.15</td>\n",
              "      <td>1132.00</td>\n",
              "      <td>71976.41</td>\n",
              "      <td>72.58</td>\n",
              "      <td>5811.16</td>\n",
              "      <td>5677.40</td>\n",
              "      <td>133.76</td>\n",
              "      <td>0.0</td>\n",
              "      <td>conventional</td>\n",
              "      <td>2015</td>\n",
              "      <td>Albany</td>\n",
              "    </tr>\n",
              "    <tr>\n",
              "      <th>4</th>\n",
              "      <td>4</td>\n",
              "      <td>2015-11-29</td>\n",
              "      <td>1.28</td>\n",
              "      <td>51039.60</td>\n",
              "      <td>941.48</td>\n",
              "      <td>43838.39</td>\n",
              "      <td>75.78</td>\n",
              "      <td>6183.95</td>\n",
              "      <td>5986.26</td>\n",
              "      <td>197.69</td>\n",
              "      <td>0.0</td>\n",
              "      <td>conventional</td>\n",
              "      <td>2015</td>\n",
              "      <td>Albany</td>\n",
              "    </tr>\n",
              "  </tbody>\n",
              "</table>\n",
              "</div>\n",
              "      <button class=\"colab-df-convert\" onclick=\"convertToInteractive('df-57f53d31-b122-43a5-ab9e-59b2d05a8288')\"\n",
              "              title=\"Convert this dataframe to an interactive table.\"\n",
              "              style=\"display:none;\">\n",
              "        \n",
              "  <svg xmlns=\"http://www.w3.org/2000/svg\" height=\"24px\"viewBox=\"0 0 24 24\"\n",
              "       width=\"24px\">\n",
              "    <path d=\"M0 0h24v24H0V0z\" fill=\"none\"/>\n",
              "    <path d=\"M18.56 5.44l.94 2.06.94-2.06 2.06-.94-2.06-.94-.94-2.06-.94 2.06-2.06.94zm-11 1L8.5 8.5l.94-2.06 2.06-.94-2.06-.94L8.5 2.5l-.94 2.06-2.06.94zm10 10l.94 2.06.94-2.06 2.06-.94-2.06-.94-.94-2.06-.94 2.06-2.06.94z\"/><path d=\"M17.41 7.96l-1.37-1.37c-.4-.4-.92-.59-1.43-.59-.52 0-1.04.2-1.43.59L10.3 9.45l-7.72 7.72c-.78.78-.78 2.05 0 2.83L4 21.41c.39.39.9.59 1.41.59.51 0 1.02-.2 1.41-.59l7.78-7.78 2.81-2.81c.8-.78.8-2.07 0-2.86zM5.41 20L4 18.59l7.72-7.72 1.47 1.35L5.41 20z\"/>\n",
              "  </svg>\n",
              "      </button>\n",
              "      \n",
              "  <style>\n",
              "    .colab-df-container {\n",
              "      display:flex;\n",
              "      flex-wrap:wrap;\n",
              "      gap: 12px;\n",
              "    }\n",
              "\n",
              "    .colab-df-convert {\n",
              "      background-color: #E8F0FE;\n",
              "      border: none;\n",
              "      border-radius: 50%;\n",
              "      cursor: pointer;\n",
              "      display: none;\n",
              "      fill: #1967D2;\n",
              "      height: 32px;\n",
              "      padding: 0 0 0 0;\n",
              "      width: 32px;\n",
              "    }\n",
              "\n",
              "    .colab-df-convert:hover {\n",
              "      background-color: #E2EBFA;\n",
              "      box-shadow: 0px 1px 2px rgba(60, 64, 67, 0.3), 0px 1px 3px 1px rgba(60, 64, 67, 0.15);\n",
              "      fill: #174EA6;\n",
              "    }\n",
              "\n",
              "    [theme=dark] .colab-df-convert {\n",
              "      background-color: #3B4455;\n",
              "      fill: #D2E3FC;\n",
              "    }\n",
              "\n",
              "    [theme=dark] .colab-df-convert:hover {\n",
              "      background-color: #434B5C;\n",
              "      box-shadow: 0px 1px 3px 1px rgba(0, 0, 0, 0.15);\n",
              "      filter: drop-shadow(0px 1px 2px rgba(0, 0, 0, 0.3));\n",
              "      fill: #FFFFFF;\n",
              "    }\n",
              "  </style>\n",
              "\n",
              "      <script>\n",
              "        const buttonEl =\n",
              "          document.querySelector('#df-57f53d31-b122-43a5-ab9e-59b2d05a8288 button.colab-df-convert');\n",
              "        buttonEl.style.display =\n",
              "          google.colab.kernel.accessAllowed ? 'block' : 'none';\n",
              "\n",
              "        async function convertToInteractive(key) {\n",
              "          const element = document.querySelector('#df-57f53d31-b122-43a5-ab9e-59b2d05a8288');\n",
              "          const dataTable =\n",
              "            await google.colab.kernel.invokeFunction('convertToInteractive',\n",
              "                                                     [key], {});\n",
              "          if (!dataTable) return;\n",
              "\n",
              "          const docLinkHtml = 'Like what you see? Visit the ' +\n",
              "            '<a target=\"_blank\" href=https://colab.research.google.com/notebooks/data_table.ipynb>data table notebook</a>'\n",
              "            + ' to learn more about interactive tables.';\n",
              "          element.innerHTML = '';\n",
              "          dataTable['output_type'] = 'display_data';\n",
              "          await google.colab.output.renderOutput(dataTable, element);\n",
              "          const docLink = document.createElement('div');\n",
              "          docLink.innerHTML = docLinkHtml;\n",
              "          element.appendChild(docLink);\n",
              "        }\n",
              "      </script>\n",
              "    </div>\n",
              "  </div>\n",
              "  "
            ],
            "text/plain": [
              "   Unnamed: 0        Date  AveragePrice  ...          type  year  region\n",
              "0           0  2015-12-27          1.33  ...  conventional  2015  Albany\n",
              "1           1  2015-12-20          1.35  ...  conventional  2015  Albany\n",
              "2           2  2015-12-13          0.93  ...  conventional  2015  Albany\n",
              "3           3  2015-12-06          1.08  ...  conventional  2015  Albany\n",
              "4           4  2015-11-29          1.28  ...  conventional  2015  Albany\n",
              "\n",
              "[5 rows x 14 columns]"
            ]
          },
          "metadata": {},
          "execution_count": 9
        }
      ]
    },
    {
      "cell_type": "code",
      "source": [
        "df.shape"
      ],
      "metadata": {
        "colab": {
          "base_uri": "https://localhost:8080/"
        },
        "id": "PlRGITkQzPY7",
        "outputId": "a8636823-7ed1-492b-f477-f76989eafdc3"
      },
      "execution_count": 10,
      "outputs": [
        {
          "output_type": "execute_result",
          "data": {
            "text/plain": [
              "(18249, 14)"
            ]
          },
          "metadata": {},
          "execution_count": 10
        }
      ]
    },
    {
      "cell_type": "code",
      "source": [
        "df.info()"
      ],
      "metadata": {
        "colab": {
          "base_uri": "https://localhost:8080/"
        },
        "id": "3Ns7TxcRzS0z",
        "outputId": "d7674ad4-861a-4864-d528-ad06ba4a5edf"
      },
      "execution_count": 11,
      "outputs": [
        {
          "output_type": "stream",
          "name": "stdout",
          "text": [
            "<class 'pandas.core.frame.DataFrame'>\n",
            "RangeIndex: 18249 entries, 0 to 18248\n",
            "Data columns (total 14 columns):\n",
            " #   Column        Non-Null Count  Dtype  \n",
            "---  ------        --------------  -----  \n",
            " 0   Unnamed: 0    18249 non-null  int64  \n",
            " 1   Date          18249 non-null  object \n",
            " 2   AveragePrice  18249 non-null  float64\n",
            " 3   Total Volume  18249 non-null  float64\n",
            " 4   4046          18249 non-null  float64\n",
            " 5   4225          18249 non-null  float64\n",
            " 6   4770          18249 non-null  float64\n",
            " 7   Total Bags    18249 non-null  float64\n",
            " 8   Small Bags    18249 non-null  float64\n",
            " 9   Large Bags    18249 non-null  float64\n",
            " 10  XLarge Bags   18249 non-null  float64\n",
            " 11  type          18249 non-null  object \n",
            " 12  year          18249 non-null  int64  \n",
            " 13  region        18249 non-null  object \n",
            "dtypes: float64(9), int64(2), object(3)\n",
            "memory usage: 1.9+ MB\n"
          ]
        }
      ]
    },
    {
      "cell_type": "code",
      "source": [
        "df.describe()"
      ],
      "metadata": {
        "colab": {
          "base_uri": "https://localhost:8080/",
          "height": 344
        },
        "id": "VghZkTnzzXho",
        "outputId": "c832449a-d388-4170-ca6a-bd3bd577c321"
      },
      "execution_count": 12,
      "outputs": [
        {
          "output_type": "execute_result",
          "data": {
            "text/html": [
              "\n",
              "  <div id=\"df-496a8f7d-f4df-4d77-aa6d-710bd1cb6cd3\">\n",
              "    <div class=\"colab-df-container\">\n",
              "      <div>\n",
              "<style scoped>\n",
              "    .dataframe tbody tr th:only-of-type {\n",
              "        vertical-align: middle;\n",
              "    }\n",
              "\n",
              "    .dataframe tbody tr th {\n",
              "        vertical-align: top;\n",
              "    }\n",
              "\n",
              "    .dataframe thead th {\n",
              "        text-align: right;\n",
              "    }\n",
              "</style>\n",
              "<table border=\"1\" class=\"dataframe\">\n",
              "  <thead>\n",
              "    <tr style=\"text-align: right;\">\n",
              "      <th></th>\n",
              "      <th>Unnamed: 0</th>\n",
              "      <th>AveragePrice</th>\n",
              "      <th>Total Volume</th>\n",
              "      <th>4046</th>\n",
              "      <th>4225</th>\n",
              "      <th>4770</th>\n",
              "      <th>Total Bags</th>\n",
              "      <th>Small Bags</th>\n",
              "      <th>Large Bags</th>\n",
              "      <th>XLarge Bags</th>\n",
              "      <th>year</th>\n",
              "    </tr>\n",
              "  </thead>\n",
              "  <tbody>\n",
              "    <tr>\n",
              "      <th>count</th>\n",
              "      <td>18249.000000</td>\n",
              "      <td>18249.000000</td>\n",
              "      <td>1.824900e+04</td>\n",
              "      <td>1.824900e+04</td>\n",
              "      <td>1.824900e+04</td>\n",
              "      <td>1.824900e+04</td>\n",
              "      <td>1.824900e+04</td>\n",
              "      <td>1.824900e+04</td>\n",
              "      <td>1.824900e+04</td>\n",
              "      <td>18249.000000</td>\n",
              "      <td>18249.000000</td>\n",
              "    </tr>\n",
              "    <tr>\n",
              "      <th>mean</th>\n",
              "      <td>24.232232</td>\n",
              "      <td>1.405978</td>\n",
              "      <td>8.506440e+05</td>\n",
              "      <td>2.930084e+05</td>\n",
              "      <td>2.951546e+05</td>\n",
              "      <td>2.283974e+04</td>\n",
              "      <td>2.396392e+05</td>\n",
              "      <td>1.821947e+05</td>\n",
              "      <td>5.433809e+04</td>\n",
              "      <td>3106.426507</td>\n",
              "      <td>2016.147899</td>\n",
              "    </tr>\n",
              "    <tr>\n",
              "      <th>std</th>\n",
              "      <td>15.481045</td>\n",
              "      <td>0.402677</td>\n",
              "      <td>3.453545e+06</td>\n",
              "      <td>1.264989e+06</td>\n",
              "      <td>1.204120e+06</td>\n",
              "      <td>1.074641e+05</td>\n",
              "      <td>9.862424e+05</td>\n",
              "      <td>7.461785e+05</td>\n",
              "      <td>2.439660e+05</td>\n",
              "      <td>17692.894652</td>\n",
              "      <td>0.939938</td>\n",
              "    </tr>\n",
              "    <tr>\n",
              "      <th>min</th>\n",
              "      <td>0.000000</td>\n",
              "      <td>0.440000</td>\n",
              "      <td>8.456000e+01</td>\n",
              "      <td>0.000000e+00</td>\n",
              "      <td>0.000000e+00</td>\n",
              "      <td>0.000000e+00</td>\n",
              "      <td>0.000000e+00</td>\n",
              "      <td>0.000000e+00</td>\n",
              "      <td>0.000000e+00</td>\n",
              "      <td>0.000000</td>\n",
              "      <td>2015.000000</td>\n",
              "    </tr>\n",
              "    <tr>\n",
              "      <th>25%</th>\n",
              "      <td>10.000000</td>\n",
              "      <td>1.100000</td>\n",
              "      <td>1.083858e+04</td>\n",
              "      <td>8.540700e+02</td>\n",
              "      <td>3.008780e+03</td>\n",
              "      <td>0.000000e+00</td>\n",
              "      <td>5.088640e+03</td>\n",
              "      <td>2.849420e+03</td>\n",
              "      <td>1.274700e+02</td>\n",
              "      <td>0.000000</td>\n",
              "      <td>2015.000000</td>\n",
              "    </tr>\n",
              "    <tr>\n",
              "      <th>50%</th>\n",
              "      <td>24.000000</td>\n",
              "      <td>1.370000</td>\n",
              "      <td>1.073768e+05</td>\n",
              "      <td>8.645300e+03</td>\n",
              "      <td>2.906102e+04</td>\n",
              "      <td>1.849900e+02</td>\n",
              "      <td>3.974383e+04</td>\n",
              "      <td>2.636282e+04</td>\n",
              "      <td>2.647710e+03</td>\n",
              "      <td>0.000000</td>\n",
              "      <td>2016.000000</td>\n",
              "    </tr>\n",
              "    <tr>\n",
              "      <th>75%</th>\n",
              "      <td>38.000000</td>\n",
              "      <td>1.660000</td>\n",
              "      <td>4.329623e+05</td>\n",
              "      <td>1.110202e+05</td>\n",
              "      <td>1.502069e+05</td>\n",
              "      <td>6.243420e+03</td>\n",
              "      <td>1.107834e+05</td>\n",
              "      <td>8.333767e+04</td>\n",
              "      <td>2.202925e+04</td>\n",
              "      <td>132.500000</td>\n",
              "      <td>2017.000000</td>\n",
              "    </tr>\n",
              "    <tr>\n",
              "      <th>max</th>\n",
              "      <td>52.000000</td>\n",
              "      <td>3.250000</td>\n",
              "      <td>6.250565e+07</td>\n",
              "      <td>2.274362e+07</td>\n",
              "      <td>2.047057e+07</td>\n",
              "      <td>2.546439e+06</td>\n",
              "      <td>1.937313e+07</td>\n",
              "      <td>1.338459e+07</td>\n",
              "      <td>5.719097e+06</td>\n",
              "      <td>551693.650000</td>\n",
              "      <td>2018.000000</td>\n",
              "    </tr>\n",
              "  </tbody>\n",
              "</table>\n",
              "</div>\n",
              "      <button class=\"colab-df-convert\" onclick=\"convertToInteractive('df-496a8f7d-f4df-4d77-aa6d-710bd1cb6cd3')\"\n",
              "              title=\"Convert this dataframe to an interactive table.\"\n",
              "              style=\"display:none;\">\n",
              "        \n",
              "  <svg xmlns=\"http://www.w3.org/2000/svg\" height=\"24px\"viewBox=\"0 0 24 24\"\n",
              "       width=\"24px\">\n",
              "    <path d=\"M0 0h24v24H0V0z\" fill=\"none\"/>\n",
              "    <path d=\"M18.56 5.44l.94 2.06.94-2.06 2.06-.94-2.06-.94-.94-2.06-.94 2.06-2.06.94zm-11 1L8.5 8.5l.94-2.06 2.06-.94-2.06-.94L8.5 2.5l-.94 2.06-2.06.94zm10 10l.94 2.06.94-2.06 2.06-.94-2.06-.94-.94-2.06-.94 2.06-2.06.94z\"/><path d=\"M17.41 7.96l-1.37-1.37c-.4-.4-.92-.59-1.43-.59-.52 0-1.04.2-1.43.59L10.3 9.45l-7.72 7.72c-.78.78-.78 2.05 0 2.83L4 21.41c.39.39.9.59 1.41.59.51 0 1.02-.2 1.41-.59l7.78-7.78 2.81-2.81c.8-.78.8-2.07 0-2.86zM5.41 20L4 18.59l7.72-7.72 1.47 1.35L5.41 20z\"/>\n",
              "  </svg>\n",
              "      </button>\n",
              "      \n",
              "  <style>\n",
              "    .colab-df-container {\n",
              "      display:flex;\n",
              "      flex-wrap:wrap;\n",
              "      gap: 12px;\n",
              "    }\n",
              "\n",
              "    .colab-df-convert {\n",
              "      background-color: #E8F0FE;\n",
              "      border: none;\n",
              "      border-radius: 50%;\n",
              "      cursor: pointer;\n",
              "      display: none;\n",
              "      fill: #1967D2;\n",
              "      height: 32px;\n",
              "      padding: 0 0 0 0;\n",
              "      width: 32px;\n",
              "    }\n",
              "\n",
              "    .colab-df-convert:hover {\n",
              "      background-color: #E2EBFA;\n",
              "      box-shadow: 0px 1px 2px rgba(60, 64, 67, 0.3), 0px 1px 3px 1px rgba(60, 64, 67, 0.15);\n",
              "      fill: #174EA6;\n",
              "    }\n",
              "\n",
              "    [theme=dark] .colab-df-convert {\n",
              "      background-color: #3B4455;\n",
              "      fill: #D2E3FC;\n",
              "    }\n",
              "\n",
              "    [theme=dark] .colab-df-convert:hover {\n",
              "      background-color: #434B5C;\n",
              "      box-shadow: 0px 1px 3px 1px rgba(0, 0, 0, 0.15);\n",
              "      filter: drop-shadow(0px 1px 2px rgba(0, 0, 0, 0.3));\n",
              "      fill: #FFFFFF;\n",
              "    }\n",
              "  </style>\n",
              "\n",
              "      <script>\n",
              "        const buttonEl =\n",
              "          document.querySelector('#df-496a8f7d-f4df-4d77-aa6d-710bd1cb6cd3 button.colab-df-convert');\n",
              "        buttonEl.style.display =\n",
              "          google.colab.kernel.accessAllowed ? 'block' : 'none';\n",
              "\n",
              "        async function convertToInteractive(key) {\n",
              "          const element = document.querySelector('#df-496a8f7d-f4df-4d77-aa6d-710bd1cb6cd3');\n",
              "          const dataTable =\n",
              "            await google.colab.kernel.invokeFunction('convertToInteractive',\n",
              "                                                     [key], {});\n",
              "          if (!dataTable) return;\n",
              "\n",
              "          const docLinkHtml = 'Like what you see? Visit the ' +\n",
              "            '<a target=\"_blank\" href=https://colab.research.google.com/notebooks/data_table.ipynb>data table notebook</a>'\n",
              "            + ' to learn more about interactive tables.';\n",
              "          element.innerHTML = '';\n",
              "          dataTable['output_type'] = 'display_data';\n",
              "          await google.colab.output.renderOutput(dataTable, element);\n",
              "          const docLink = document.createElement('div');\n",
              "          docLink.innerHTML = docLinkHtml;\n",
              "          element.appendChild(docLink);\n",
              "        }\n",
              "      </script>\n",
              "    </div>\n",
              "  </div>\n",
              "  "
            ],
            "text/plain": [
              "         Unnamed: 0  AveragePrice  ...    XLarge Bags          year\n",
              "count  18249.000000  18249.000000  ...   18249.000000  18249.000000\n",
              "mean      24.232232      1.405978  ...    3106.426507   2016.147899\n",
              "std       15.481045      0.402677  ...   17692.894652      0.939938\n",
              "min        0.000000      0.440000  ...       0.000000   2015.000000\n",
              "25%       10.000000      1.100000  ...       0.000000   2015.000000\n",
              "50%       24.000000      1.370000  ...       0.000000   2016.000000\n",
              "75%       38.000000      1.660000  ...     132.500000   2017.000000\n",
              "max       52.000000      3.250000  ...  551693.650000   2018.000000\n",
              "\n",
              "[8 rows x 11 columns]"
            ]
          },
          "metadata": {},
          "execution_count": 12
        }
      ]
    },
    {
      "cell_type": "code",
      "source": [
        "df.isnull() .sum()"
      ],
      "metadata": {
        "colab": {
          "base_uri": "https://localhost:8080/"
        },
        "id": "IsAMgp11zknC",
        "outputId": "847358a7-3991-46d0-8e05-21eb70ea1d87"
      },
      "execution_count": 13,
      "outputs": [
        {
          "output_type": "execute_result",
          "data": {
            "text/plain": [
              "Unnamed: 0      0\n",
              "Date            0\n",
              "AveragePrice    0\n",
              "Total Volume    0\n",
              "4046            0\n",
              "4225            0\n",
              "4770            0\n",
              "Total Bags      0\n",
              "Small Bags      0\n",
              "Large Bags      0\n",
              "XLarge Bags     0\n",
              "type            0\n",
              "year            0\n",
              "region          0\n",
              "dtype: int64"
            ]
          },
          "metadata": {},
          "execution_count": 13
        }
      ]
    },
    {
      "cell_type": "code",
      "source": [
        "f = plt.figure(figsize=(40,15))\n",
        "\n",
        "f.add_subplot(1,2,1)\n",
        "sns.countplot (df['AveragePrice'])\n",
        "\n",
        "f.add_subplot(1,2,2)\n",
        "plt.boxplot (df['AveragePrice'])\n",
        "\n",
        "plt.show()"
      ],
      "metadata": {
        "colab": {
          "base_uri": "https://localhost:8080/",
          "height": 540
        },
        "id": "gqmts7EVzv6k",
        "outputId": "0ab945ea-846a-4bcd-b8ff-47b40e1d90fd"
      },
      "execution_count": 34,
      "outputs": [
        {
          "output_type": "stream",
          "name": "stderr",
          "text": [
            "/usr/local/lib/python3.7/dist-packages/seaborn/_decorators.py:43: FutureWarning: Pass the following variable as a keyword arg: x. From version 0.12, the only valid positional argument will be `data`, and passing other arguments without an explicit keyword will result in an error or misinterpretation.\n",
            "  FutureWarning\n"
          ]
        },
        {
          "output_type": "display_data",
          "data": {
            "image/png": "[encoded data removed]",
            "text/plain": [
              "<Figure size 2880x1080 with 2 Axes>"
            ]
          },
          "metadata": {
            "needs_background": "light"
          }
        }
      ]
    },
    {
      "cell_type": "code",
      "source": [
        "f = plt.figure(figsize=(12,5))\n",
        "\n",
        "f.add_subplot(1,2,1)\n",
        "sns.countplot (df['Total Volume'])\n",
        "\n",
        "\n",
        "f.add_subplot(1,2,2)\n",
        "plt.boxplot (df['Total Volume'])\n",
        "\n",
        "plt.show()"
      ],
      "metadata": {
        "colab": {
          "base_uri": "https://localhost:8080/",
          "height": 400
        },
        "id": "Dh5uzE_A2bCm",
        "outputId": "a0937ea5-09ff-4e43-e115-e279fe52991d"
      },
      "execution_count": 40,
      "outputs": [
        {
          "output_type": "stream",
          "name": "stderr",
          "text": [
            "/usr/local/lib/python3.7/dist-packages/seaborn/_decorators.py:43: FutureWarning: Pass the following variable as a keyword arg: x. From version 0.12, the only valid positional argument will be `data`, and passing other arguments without an explicit keyword will result in an error or misinterpretation.\n",
            "  FutureWarning\n"
          ]
        },
        {
          "output_type": "display_data",
          "data": {
            "image/png": "[encoded data removed]",
            "text/plain": [
              "<Figure size 864x360 with 2 Axes>"
            ]
          },
          "metadata": {
            "needs_background": "light"
          }
        }
      ]
    },
    {
      "cell_type": "code",
      "source": [
        "f = plt.figure(figsize=(12,4))\n",
        "\n",
        "f.add_subplot(1,2,1)\n",
        "sns.countplot (df['year'])\n",
        "\n",
        "\n",
        "f.add_subplot(1,2,2)\n",
        "plt.boxplot (df['year'])\n",
        "\n",
        "plt.show()"
      ],
      "metadata": {
        "colab": {
          "base_uri": "https://localhost:8080/",
          "height": 338
        },
        "id": "YLCQTwpQ5yHh",
        "outputId": "de2a93e6-d1ab-4679-9ce5-2dad6e32b33f"
      },
      "execution_count": 31,
      "outputs": [
        {
          "output_type": "stream",
          "name": "stderr",
          "text": [
            "/usr/local/lib/python3.7/dist-packages/seaborn/_decorators.py:43: FutureWarning: Pass the following variable as a keyword arg: x. From version 0.12, the only valid positional argument will be `data`, and passing other arguments without an explicit keyword will result in an error or misinterpretation.\n",
            "  FutureWarning\n"
          ]
        },
        {
          "output_type": "display_data",
          "data": {
            "image/png": "[encoded data removed]",
            "text/plain": [
              "<Figure size 864x288 with 2 Axes>"
            ]
          },
          "metadata": {
            "needs_background": "light"
          }
        }
      ]
    },
    {
      "cell_type": "code",
      "source": [
        "# plt.figure(figsize=(10,8))\n",
        "# sns.pairplot(data=df, x_vars=[\"Date\"\n",
        "# \"AveragePrice\"\n",
        "# \"Total Volume\"\n",
        "# \"4046\"\n",
        "# \"4225\"\n",
        "# \"4770\"\n",
        "# \"Total Bags\"\n",
        "# \"Small Bags\"\n",
        "# \"Large Bags\"\n",
        "# \"XLarge Bags\"\n",
        "# \"type\"\n",
        "# \"year\"\n",
        "# \"region\"], y_vars=['year'], size=5, aspect=0,75)\n",
        "# plt.show()"
      ],
      "metadata": {
        "id": "Q_kzgeTA-FGc"
      },
      "execution_count": 73,
      "outputs": []
    },
    {
      "cell_type": "code",
      "source": [
        "df.corr() .style.background_gradient() .set_precision(1)"
      ],
      "metadata": {
        "colab": {
          "base_uri": "https://localhost:8080/",
          "height": 394
        },
        "id": "oz6l87VzJbBf",
        "outputId": "773f3c37-4229-4f4a-c690-66b0308c0474"
      },
      "execution_count": 57,
      "outputs": [
        {
          "output_type": "execute_result",
          "data": {
            "text/html": [
              "<style  type=\"text/css\" >\n",
              "#T_f29a13fa_6ebc_11ec_af19_0242ac1c0002row0_col0,#T_f29a13fa_6ebc_11ec_af19_0242ac1c0002row1_col1,#T_f29a13fa_6ebc_11ec_af19_0242ac1c0002row2_col2,#T_f29a13fa_6ebc_11ec_af19_0242ac1c0002row3_col3,#T_f29a13fa_6ebc_11ec_af19_0242ac1c0002row4_col4,#T_f29a13fa_6ebc_11ec_af19_0242ac1c0002row5_col5,#T_f29a13fa_6ebc_11ec_af19_0242ac1c0002row6_col6,#T_f29a13fa_6ebc_11ec_af19_0242ac1c0002row7_col7,#T_f29a13fa_6ebc_11ec_af19_0242ac1c0002row8_col8,#T_f29a13fa_6ebc_11ec_af19_0242ac1c0002row9_col9,#T_f29a13fa_6ebc_11ec_af19_0242ac1c0002row10_col10{\n",
              "            background-color:  #023858;\n",
              "            color:  #f1f1f1;\n",
              "        }#T_f29a13fa_6ebc_11ec_af19_0242ac1c0002row0_col1{\n",
              "            background-color:  #f6eff7;\n",
              "            color:  #000000;\n",
              "        }#T_f29a13fa_6ebc_11ec_af19_0242ac1c0002row0_col2,#T_f29a13fa_6ebc_11ec_af19_0242ac1c0002row10_col3{\n",
              "            background-color:  #e1dfed;\n",
              "            color:  #000000;\n",
              "        }#T_f29a13fa_6ebc_11ec_af19_0242ac1c0002row0_col3{\n",
              "            background-color:  #dfddec;\n",
              "            color:  #000000;\n",
              "        }#T_f29a13fa_6ebc_11ec_af19_0242ac1c0002row0_col4{\n",
              "            background-color:  #e3e0ee;\n",
              "            color:  #000000;\n",
              "        }#T_f29a13fa_6ebc_11ec_af19_0242ac1c0002row0_col5{\n",
              "            background-color:  #dedcec;\n",
              "            color:  #000000;\n",
              "        }#T_f29a13fa_6ebc_11ec_af19_0242ac1c0002row0_col6,#T_f29a13fa_6ebc_11ec_af19_0242ac1c0002row0_col7,#T_f29a13fa_6ebc_11ec_af19_0242ac1c0002row3_col10,#T_f29a13fa_6ebc_11ec_af19_0242ac1c0002row6_col0,#T_f29a13fa_6ebc_11ec_af19_0242ac1c0002row7_col0{\n",
              "            background-color:  #e7e3f0;\n",
              "            color:  #000000;\n",
              "        }#T_f29a13fa_6ebc_11ec_af19_0242ac1c0002row0_col8,#T_f29a13fa_6ebc_11ec_af19_0242ac1c0002row4_col10,#T_f29a13fa_6ebc_11ec_af19_0242ac1c0002row8_col0,#T_f29a13fa_6ebc_11ec_af19_0242ac1c0002row10_col4{\n",
              "            background-color:  #e9e5f1;\n",
              "            color:  #000000;\n",
              "        }#T_f29a13fa_6ebc_11ec_af19_0242ac1c0002row0_col9{\n",
              "            background-color:  #f1ebf4;\n",
              "            color:  #000000;\n",
              "        }#T_f29a13fa_6ebc_11ec_af19_0242ac1c0002row0_col10,#T_f29a13fa_6ebc_11ec_af19_0242ac1c0002row1_col2,#T_f29a13fa_6ebc_11ec_af19_0242ac1c0002row1_col3,#T_f29a13fa_6ebc_11ec_af19_0242ac1c0002row1_col4,#T_f29a13fa_6ebc_11ec_af19_0242ac1c0002row1_col5,#T_f29a13fa_6ebc_11ec_af19_0242ac1c0002row1_col6,#T_f29a13fa_6ebc_11ec_af19_0242ac1c0002row1_col7,#T_f29a13fa_6ebc_11ec_af19_0242ac1c0002row1_col8,#T_f29a13fa_6ebc_11ec_af19_0242ac1c0002row1_col9,#T_f29a13fa_6ebc_11ec_af19_0242ac1c0002row3_col1,#T_f29a13fa_6ebc_11ec_af19_0242ac1c0002row10_col0{\n",
              "            background-color:  #fff7fb;\n",
              "            color:  #000000;\n",
              "        }#T_f29a13fa_6ebc_11ec_af19_0242ac1c0002row1_col0{\n",
              "            background-color:  #faf3f9;\n",
              "            color:  #000000;\n",
              "        }#T_f29a13fa_6ebc_11ec_af19_0242ac1c0002row1_col10{\n",
              "            background-color:  #d6d6e9;\n",
              "            color:  #000000;\n",
              "        }#T_f29a13fa_6ebc_11ec_af19_0242ac1c0002row2_col0{\n",
              "            background-color:  #e5e1ef;\n",
              "            color:  #000000;\n",
              "        }#T_f29a13fa_6ebc_11ec_af19_0242ac1c0002row2_col1{\n",
              "            background-color:  #fdf5fa;\n",
              "            color:  #000000;\n",
              "        }#T_f29a13fa_6ebc_11ec_af19_0242ac1c0002row2_col3,#T_f29a13fa_6ebc_11ec_af19_0242ac1c0002row3_col2{\n",
              "            background-color:  #023c5f;\n",
              "            color:  #f1f1f1;\n",
              "        }#T_f29a13fa_6ebc_11ec_af19_0242ac1c0002row2_col4,#T_f29a13fa_6ebc_11ec_af19_0242ac1c0002row4_col2{\n",
              "            background-color:  #023d60;\n",
              "            color:  #f1f1f1;\n",
              "        }#T_f29a13fa_6ebc_11ec_af19_0242ac1c0002row2_col5,#T_f29a13fa_6ebc_11ec_af19_0242ac1c0002row5_col2{\n",
              "            background-color:  #045585;\n",
              "            color:  #f1f1f1;\n",
              "        }#T_f29a13fa_6ebc_11ec_af19_0242ac1c0002row2_col6{\n",
              "            background-color:  #034165;\n",
              "            color:  #f1f1f1;\n",
              "        }#T_f29a13fa_6ebc_11ec_af19_0242ac1c0002row2_col7,#T_f29a13fa_6ebc_11ec_af19_0242ac1c0002row6_col2,#T_f29a13fa_6ebc_11ec_af19_0242ac1c0002row7_col2{\n",
              "            background-color:  #023f64;\n",
              "            color:  #f1f1f1;\n",
              "        }#T_f29a13fa_6ebc_11ec_af19_0242ac1c0002row2_col8{\n",
              "            background-color:  #045483;\n",
              "            color:  #f1f1f1;\n",
              "        }#T_f29a13fa_6ebc_11ec_af19_0242ac1c0002row2_col9{\n",
              "            background-color:  #056ba9;\n",
              "            color:  #f1f1f1;\n",
              "        }#T_f29a13fa_6ebc_11ec_af19_0242ac1c0002row2_col10,#T_f29a13fa_6ebc_11ec_af19_0242ac1c0002row3_col0,#T_f29a13fa_6ebc_11ec_af19_0242ac1c0002row4_col0{\n",
              "            background-color:  #e4e1ef;\n",
              "            color:  #000000;\n",
              "        }#T_f29a13fa_6ebc_11ec_af19_0242ac1c0002row3_col4,#T_f29a13fa_6ebc_11ec_af19_0242ac1c0002row3_col7,#T_f29a13fa_6ebc_11ec_af19_0242ac1c0002row6_col3{\n",
              "            background-color:  #034973;\n",
              "            color:  #f1f1f1;\n",
              "        }#T_f29a13fa_6ebc_11ec_af19_0242ac1c0002row3_col5{\n",
              "            background-color:  #045d92;\n",
              "            color:  #f1f1f1;\n",
              "        }#T_f29a13fa_6ebc_11ec_af19_0242ac1c0002row3_col6{\n",
              "            background-color:  #034a74;\n",
              "            color:  #f1f1f1;\n",
              "        }#T_f29a13fa_6ebc_11ec_af19_0242ac1c0002row3_col8,#T_f29a13fa_6ebc_11ec_af19_0242ac1c0002row5_col3{\n",
              "            background-color:  #045c90;\n",
              "            color:  #f1f1f1;\n",
              "        }#T_f29a13fa_6ebc_11ec_af19_0242ac1c0002row3_col9{\n",
              "            background-color:  #0c74b2;\n",
              "            color:  #f1f1f1;\n",
              "        }#T_f29a13fa_6ebc_11ec_af19_0242ac1c0002row4_col1,#T_f29a13fa_6ebc_11ec_af19_0242ac1c0002row7_col1,#T_f29a13fa_6ebc_11ec_af19_0242ac1c0002row8_col1{\n",
              "            background-color:  #fbf3f9;\n",
              "            color:  #000000;\n",
              "        }#T_f29a13fa_6ebc_11ec_af19_0242ac1c0002row4_col3,#T_f29a13fa_6ebc_11ec_af19_0242ac1c0002row7_col3{\n",
              "            background-color:  #034871;\n",
              "            color:  #f1f1f1;\n",
              "        }#T_f29a13fa_6ebc_11ec_af19_0242ac1c0002row4_col5,#T_f29a13fa_6ebc_11ec_af19_0242ac1c0002row5_col4{\n",
              "            background-color:  #045280;\n",
              "            color:  #f1f1f1;\n",
              "        }#T_f29a13fa_6ebc_11ec_af19_0242ac1c0002row4_col6,#T_f29a13fa_6ebc_11ec_af19_0242ac1c0002row6_col4{\n",
              "            background-color:  #034d79;\n",
              "            color:  #f1f1f1;\n",
              "        }#T_f29a13fa_6ebc_11ec_af19_0242ac1c0002row4_col7,#T_f29a13fa_6ebc_11ec_af19_0242ac1c0002row7_col4{\n",
              "            background-color:  #034b76;\n",
              "            color:  #f1f1f1;\n",
              "        }#T_f29a13fa_6ebc_11ec_af19_0242ac1c0002row4_col8,#T_f29a13fa_6ebc_11ec_af19_0242ac1c0002row8_col4{\n",
              "            background-color:  #046097;\n",
              "            color:  #f1f1f1;\n",
              "        }#T_f29a13fa_6ebc_11ec_af19_0242ac1c0002row4_col9{\n",
              "            background-color:  #1077b4;\n",
              "            color:  #f1f1f1;\n",
              "        }#T_f29a13fa_6ebc_11ec_af19_0242ac1c0002row5_col0{\n",
              "            background-color:  #e0dded;\n",
              "            color:  #000000;\n",
              "        }#T_f29a13fa_6ebc_11ec_af19_0242ac1c0002row5_col1,#T_f29a13fa_6ebc_11ec_af19_0242ac1c0002row6_col1{\n",
              "            background-color:  #fbf4f9;\n",
              "            color:  #000000;\n",
              "        }#T_f29a13fa_6ebc_11ec_af19_0242ac1c0002row5_col6,#T_f29a13fa_6ebc_11ec_af19_0242ac1c0002row6_col5{\n",
              "            background-color:  #04639b;\n",
              "            color:  #f1f1f1;\n",
              "        }#T_f29a13fa_6ebc_11ec_af19_0242ac1c0002row5_col7,#T_f29a13fa_6ebc_11ec_af19_0242ac1c0002row7_col5,#T_f29a13fa_6ebc_11ec_af19_0242ac1c0002row9_col6,#T_f29a13fa_6ebc_11ec_af19_0242ac1c0002row9_col7{\n",
              "            background-color:  #046198;\n",
              "            color:  #f1f1f1;\n",
              "        }#T_f29a13fa_6ebc_11ec_af19_0242ac1c0002row5_col8,#T_f29a13fa_6ebc_11ec_af19_0242ac1c0002row8_col5{\n",
              "            background-color:  #0771b1;\n",
              "            color:  #f1f1f1;\n",
              "        }#T_f29a13fa_6ebc_11ec_af19_0242ac1c0002row5_col9{\n",
              "            background-color:  #1379b5;\n",
              "            color:  #f1f1f1;\n",
              "        }#T_f29a13fa_6ebc_11ec_af19_0242ac1c0002row5_col10{\n",
              "            background-color:  #eee8f3;\n",
              "            color:  #000000;\n",
              "        }#T_f29a13fa_6ebc_11ec_af19_0242ac1c0002row6_col7,#T_f29a13fa_6ebc_11ec_af19_0242ac1c0002row7_col6{\n",
              "            background-color:  #02395a;\n",
              "            color:  #f1f1f1;\n",
              "        }#T_f29a13fa_6ebc_11ec_af19_0242ac1c0002row6_col8,#T_f29a13fa_6ebc_11ec_af19_0242ac1c0002row8_col6{\n",
              "            background-color:  #03456c;\n",
              "            color:  #f1f1f1;\n",
              "        }#T_f29a13fa_6ebc_11ec_af19_0242ac1c0002row6_col9,#T_f29a13fa_6ebc_11ec_af19_0242ac1c0002row7_col9{\n",
              "            background-color:  #04629a;\n",
              "            color:  #f1f1f1;\n",
              "        }#T_f29a13fa_6ebc_11ec_af19_0242ac1c0002row6_col10,#T_f29a13fa_6ebc_11ec_af19_0242ac1c0002row10_col6{\n",
              "            background-color:  #d9d8ea;\n",
              "            color:  #000000;\n",
              "        }#T_f29a13fa_6ebc_11ec_af19_0242ac1c0002row7_col8,#T_f29a13fa_6ebc_11ec_af19_0242ac1c0002row8_col7{\n",
              "            background-color:  #034e7b;\n",
              "            color:  #f1f1f1;\n",
              "        }#T_f29a13fa_6ebc_11ec_af19_0242ac1c0002row7_col10{\n",
              "            background-color:  #dbdaeb;\n",
              "            color:  #000000;\n",
              "        }#T_f29a13fa_6ebc_11ec_af19_0242ac1c0002row8_col2{\n",
              "            background-color:  #045382;\n",
              "            color:  #f1f1f1;\n",
              "        }#T_f29a13fa_6ebc_11ec_af19_0242ac1c0002row8_col3{\n",
              "            background-color:  #045b8f;\n",
              "            color:  #f1f1f1;\n",
              "        }#T_f29a13fa_6ebc_11ec_af19_0242ac1c0002row8_col9{\n",
              "            background-color:  #0872b1;\n",
              "            color:  #f1f1f1;\n",
              "        }#T_f29a13fa_6ebc_11ec_af19_0242ac1c0002row8_col10,#T_f29a13fa_6ebc_11ec_af19_0242ac1c0002row10_col8{\n",
              "            background-color:  #d7d6e9;\n",
              "            color:  #000000;\n",
              "        }#T_f29a13fa_6ebc_11ec_af19_0242ac1c0002row9_col0{\n",
              "            background-color:  #eae6f1;\n",
              "            color:  #000000;\n",
              "        }#T_f29a13fa_6ebc_11ec_af19_0242ac1c0002row9_col1{\n",
              "            background-color:  #f4edf6;\n",
              "            color:  #000000;\n",
              "        }#T_f29a13fa_6ebc_11ec_af19_0242ac1c0002row9_col2{\n",
              "            background-color:  #0569a5;\n",
              "            color:  #f1f1f1;\n",
              "        }#T_f29a13fa_6ebc_11ec_af19_0242ac1c0002row9_col3,#T_f29a13fa_6ebc_11ec_af19_0242ac1c0002row9_col8{\n",
              "            background-color:  #056faf;\n",
              "            color:  #f1f1f1;\n",
              "        }#T_f29a13fa_6ebc_11ec_af19_0242ac1c0002row9_col4{\n",
              "            background-color:  #0a73b2;\n",
              "            color:  #f1f1f1;\n",
              "        }#T_f29a13fa_6ebc_11ec_af19_0242ac1c0002row9_col5{\n",
              "            background-color:  #0d75b3;\n",
              "            color:  #f1f1f1;\n",
              "        }#T_f29a13fa_6ebc_11ec_af19_0242ac1c0002row9_col10{\n",
              "            background-color:  #d8d7e9;\n",
              "            color:  #000000;\n",
              "        }#T_f29a13fa_6ebc_11ec_af19_0242ac1c0002row10_col1{\n",
              "            background-color:  #d1d2e6;\n",
              "            color:  #000000;\n",
              "        }#T_f29a13fa_6ebc_11ec_af19_0242ac1c0002row10_col2,#T_f29a13fa_6ebc_11ec_af19_0242ac1c0002row10_col9{\n",
              "            background-color:  #e0deed;\n",
              "            color:  #000000;\n",
              "        }#T_f29a13fa_6ebc_11ec_af19_0242ac1c0002row10_col5{\n",
              "            background-color:  #ede7f2;\n",
              "            color:  #000000;\n",
              "        }#T_f29a13fa_6ebc_11ec_af19_0242ac1c0002row10_col7{\n",
              "            background-color:  #dad9ea;\n",
              "            color:  #000000;\n",
              "        }</style><table id=\"T_f29a13fa_6ebc_11ec_af19_0242ac1c0002\" class=\"dataframe\"><thead>    <tr>        <th class=\"blank level0\" ></th>        <th class=\"col_heading level0 col0\" >Unnamed: 0</th>        <th class=\"col_heading level0 col1\" >AveragePrice</th>        <th class=\"col_heading level0 col2\" >Total Volume</th>        <th class=\"col_heading level0 col3\" >4046</th>        <th class=\"col_heading level0 col4\" >4225</th>        <th class=\"col_heading level0 col5\" >4770</th>        <th class=\"col_heading level0 col6\" >Total Bags</th>        <th class=\"col_heading level0 col7\" >Small Bags</th>        <th class=\"col_heading level0 col8\" >Large Bags</th>        <th class=\"col_heading level0 col9\" >XLarge Bags</th>        <th class=\"col_heading level0 col10\" >year</th>    </tr></thead><tbody>\n",
              "                <tr>\n",
              "                        <th id=\"T_f29a13fa_6ebc_11ec_af19_0242ac1c0002level0_row0\" class=\"row_heading level0 row0\" >Unnamed: 0</th>\n",
              "                        <td id=\"T_f29a13fa_6ebc_11ec_af19_0242ac1c0002row0_col0\" class=\"data row0 col0\" >1.0</td>\n",
              "                        <td id=\"T_f29a13fa_6ebc_11ec_af19_0242ac1c0002row0_col1\" class=\"data row0 col1\" >-0.1</td>\n",
              "                        <td id=\"T_f29a13fa_6ebc_11ec_af19_0242ac1c0002row0_col2\" class=\"data row0 col2\" >0.0</td>\n",
              "                        <td id=\"T_f29a13fa_6ebc_11ec_af19_0242ac1c0002row0_col3\" class=\"data row0 col3\" >0.0</td>\n",
              "                        <td id=\"T_f29a13fa_6ebc_11ec_af19_0242ac1c0002row0_col4\" class=\"data row0 col4\" >0.0</td>\n",
              "                        <td id=\"T_f29a13fa_6ebc_11ec_af19_0242ac1c0002row0_col5\" class=\"data row0 col5\" >0.0</td>\n",
              "                        <td id=\"T_f29a13fa_6ebc_11ec_af19_0242ac1c0002row0_col6\" class=\"data row0 col6\" >-0.0</td>\n",
              "                        <td id=\"T_f29a13fa_6ebc_11ec_af19_0242ac1c0002row0_col7\" class=\"data row0 col7\" >0.0</td>\n",
              "                        <td id=\"T_f29a13fa_6ebc_11ec_af19_0242ac1c0002row0_col8\" class=\"data row0 col8\" >-0.0</td>\n",
              "                        <td id=\"T_f29a13fa_6ebc_11ec_af19_0242ac1c0002row0_col9\" class=\"data row0 col9\" >-0.0</td>\n",
              "                        <td id=\"T_f29a13fa_6ebc_11ec_af19_0242ac1c0002row0_col10\" class=\"data row0 col10\" >-0.2</td>\n",
              "            </tr>\n",
              "            <tr>\n",
              "                        <th id=\"T_f29a13fa_6ebc_11ec_af19_0242ac1c0002level0_row1\" class=\"row_heading level0 row1\" >AveragePrice</th>\n",
              "                        <td id=\"T_f29a13fa_6ebc_11ec_af19_0242ac1c0002row1_col0\" class=\"data row1 col0\" >-0.1</td>\n",
              "                        <td id=\"T_f29a13fa_6ebc_11ec_af19_0242ac1c0002row1_col1\" class=\"data row1 col1\" >1.0</td>\n",
              "                        <td id=\"T_f29a13fa_6ebc_11ec_af19_0242ac1c0002row1_col2\" class=\"data row1 col2\" >-0.2</td>\n",
              "                        <td id=\"T_f29a13fa_6ebc_11ec_af19_0242ac1c0002row1_col3\" class=\"data row1 col3\" >-0.2</td>\n",
              "                        <td id=\"T_f29a13fa_6ebc_11ec_af19_0242ac1c0002row1_col4\" class=\"data row1 col4\" >-0.2</td>\n",
              "                        <td id=\"T_f29a13fa_6ebc_11ec_af19_0242ac1c0002row1_col5\" class=\"data row1 col5\" >-0.2</td>\n",
              "                        <td id=\"T_f29a13fa_6ebc_11ec_af19_0242ac1c0002row1_col6\" class=\"data row1 col6\" >-0.2</td>\n",
              "                        <td id=\"T_f29a13fa_6ebc_11ec_af19_0242ac1c0002row1_col7\" class=\"data row1 col7\" >-0.2</td>\n",
              "                        <td id=\"T_f29a13fa_6ebc_11ec_af19_0242ac1c0002row1_col8\" class=\"data row1 col8\" >-0.2</td>\n",
              "                        <td id=\"T_f29a13fa_6ebc_11ec_af19_0242ac1c0002row1_col9\" class=\"data row1 col9\" >-0.1</td>\n",
              "                        <td id=\"T_f29a13fa_6ebc_11ec_af19_0242ac1c0002row1_col10\" class=\"data row1 col10\" >0.1</td>\n",
              "            </tr>\n",
              "            <tr>\n",
              "                        <th id=\"T_f29a13fa_6ebc_11ec_af19_0242ac1c0002level0_row2\" class=\"row_heading level0 row2\" >Total Volume</th>\n",
              "                        <td id=\"T_f29a13fa_6ebc_11ec_af19_0242ac1c0002row2_col0\" class=\"data row2 col0\" >0.0</td>\n",
              "                        <td id=\"T_f29a13fa_6ebc_11ec_af19_0242ac1c0002row2_col1\" class=\"data row2 col1\" >-0.2</td>\n",
              "                        <td id=\"T_f29a13fa_6ebc_11ec_af19_0242ac1c0002row2_col2\" class=\"data row2 col2\" >1.0</td>\n",
              "                        <td id=\"T_f29a13fa_6ebc_11ec_af19_0242ac1c0002row2_col3\" class=\"data row2 col3\" >1.0</td>\n",
              "                        <td id=\"T_f29a13fa_6ebc_11ec_af19_0242ac1c0002row2_col4\" class=\"data row2 col4\" >1.0</td>\n",
              "                        <td id=\"T_f29a13fa_6ebc_11ec_af19_0242ac1c0002row2_col5\" class=\"data row2 col5\" >0.9</td>\n",
              "                        <td id=\"T_f29a13fa_6ebc_11ec_af19_0242ac1c0002row2_col6\" class=\"data row2 col6\" >1.0</td>\n",
              "                        <td id=\"T_f29a13fa_6ebc_11ec_af19_0242ac1c0002row2_col7\" class=\"data row2 col7\" >1.0</td>\n",
              "                        <td id=\"T_f29a13fa_6ebc_11ec_af19_0242ac1c0002row2_col8\" class=\"data row2 col8\" >0.9</td>\n",
              "                        <td id=\"T_f29a13fa_6ebc_11ec_af19_0242ac1c0002row2_col9\" class=\"data row2 col9\" >0.7</td>\n",
              "                        <td id=\"T_f29a13fa_6ebc_11ec_af19_0242ac1c0002row2_col10\" class=\"data row2 col10\" >0.0</td>\n",
              "            </tr>\n",
              "            <tr>\n",
              "                        <th id=\"T_f29a13fa_6ebc_11ec_af19_0242ac1c0002level0_row3\" class=\"row_heading level0 row3\" >4046</th>\n",
              "                        <td id=\"T_f29a13fa_6ebc_11ec_af19_0242ac1c0002row3_col0\" class=\"data row3 col0\" >0.0</td>\n",
              "                        <td id=\"T_f29a13fa_6ebc_11ec_af19_0242ac1c0002row3_col1\" class=\"data row3 col1\" >-0.2</td>\n",
              "                        <td id=\"T_f29a13fa_6ebc_11ec_af19_0242ac1c0002row3_col2\" class=\"data row3 col2\" >1.0</td>\n",
              "                        <td id=\"T_f29a13fa_6ebc_11ec_af19_0242ac1c0002row3_col3\" class=\"data row3 col3\" >1.0</td>\n",
              "                        <td id=\"T_f29a13fa_6ebc_11ec_af19_0242ac1c0002row3_col4\" class=\"data row3 col4\" >0.9</td>\n",
              "                        <td id=\"T_f29a13fa_6ebc_11ec_af19_0242ac1c0002row3_col5\" class=\"data row3 col5\" >0.8</td>\n",
              "                        <td id=\"T_f29a13fa_6ebc_11ec_af19_0242ac1c0002row3_col6\" class=\"data row3 col6\" >0.9</td>\n",
              "                        <td id=\"T_f29a13fa_6ebc_11ec_af19_0242ac1c0002row3_col7\" class=\"data row3 col7\" >0.9</td>\n",
              "                        <td id=\"T_f29a13fa_6ebc_11ec_af19_0242ac1c0002row3_col8\" class=\"data row3 col8\" >0.8</td>\n",
              "                        <td id=\"T_f29a13fa_6ebc_11ec_af19_0242ac1c0002row3_col9\" class=\"data row3 col9\" >0.7</td>\n",
              "                        <td id=\"T_f29a13fa_6ebc_11ec_af19_0242ac1c0002row3_col10\" class=\"data row3 col10\" >0.0</td>\n",
              "            </tr>\n",
              "            <tr>\n",
              "                        <th id=\"T_f29a13fa_6ebc_11ec_af19_0242ac1c0002level0_row4\" class=\"row_heading level0 row4\" >4225</th>\n",
              "                        <td id=\"T_f29a13fa_6ebc_11ec_af19_0242ac1c0002row4_col0\" class=\"data row4 col0\" >0.0</td>\n",
              "                        <td id=\"T_f29a13fa_6ebc_11ec_af19_0242ac1c0002row4_col1\" class=\"data row4 col1\" >-0.2</td>\n",
              "                        <td id=\"T_f29a13fa_6ebc_11ec_af19_0242ac1c0002row4_col2\" class=\"data row4 col2\" >1.0</td>\n",
              "                        <td id=\"T_f29a13fa_6ebc_11ec_af19_0242ac1c0002row4_col3\" class=\"data row4 col3\" >0.9</td>\n",
              "                        <td id=\"T_f29a13fa_6ebc_11ec_af19_0242ac1c0002row4_col4\" class=\"data row4 col4\" >1.0</td>\n",
              "                        <td id=\"T_f29a13fa_6ebc_11ec_af19_0242ac1c0002row4_col5\" class=\"data row4 col5\" >0.9</td>\n",
              "                        <td id=\"T_f29a13fa_6ebc_11ec_af19_0242ac1c0002row4_col6\" class=\"data row4 col6\" >0.9</td>\n",
              "                        <td id=\"T_f29a13fa_6ebc_11ec_af19_0242ac1c0002row4_col7\" class=\"data row4 col7\" >0.9</td>\n",
              "                        <td id=\"T_f29a13fa_6ebc_11ec_af19_0242ac1c0002row4_col8\" class=\"data row4 col8\" >0.8</td>\n",
              "                        <td id=\"T_f29a13fa_6ebc_11ec_af19_0242ac1c0002row4_col9\" class=\"data row4 col9\" >0.7</td>\n",
              "                        <td id=\"T_f29a13fa_6ebc_11ec_af19_0242ac1c0002row4_col10\" class=\"data row4 col10\" >-0.0</td>\n",
              "            </tr>\n",
              "            <tr>\n",
              "                        <th id=\"T_f29a13fa_6ebc_11ec_af19_0242ac1c0002level0_row5\" class=\"row_heading level0 row5\" >4770</th>\n",
              "                        <td id=\"T_f29a13fa_6ebc_11ec_af19_0242ac1c0002row5_col0\" class=\"data row5 col0\" >0.0</td>\n",
              "                        <td id=\"T_f29a13fa_6ebc_11ec_af19_0242ac1c0002row5_col1\" class=\"data row5 col1\" >-0.2</td>\n",
              "                        <td id=\"T_f29a13fa_6ebc_11ec_af19_0242ac1c0002row5_col2\" class=\"data row5 col2\" >0.9</td>\n",
              "                        <td id=\"T_f29a13fa_6ebc_11ec_af19_0242ac1c0002row5_col3\" class=\"data row5 col3\" >0.8</td>\n",
              "                        <td id=\"T_f29a13fa_6ebc_11ec_af19_0242ac1c0002row5_col4\" class=\"data row5 col4\" >0.9</td>\n",
              "                        <td id=\"T_f29a13fa_6ebc_11ec_af19_0242ac1c0002row5_col5\" class=\"data row5 col5\" >1.0</td>\n",
              "                        <td id=\"T_f29a13fa_6ebc_11ec_af19_0242ac1c0002row5_col6\" class=\"data row5 col6\" >0.8</td>\n",
              "                        <td id=\"T_f29a13fa_6ebc_11ec_af19_0242ac1c0002row5_col7\" class=\"data row5 col7\" >0.8</td>\n",
              "                        <td id=\"T_f29a13fa_6ebc_11ec_af19_0242ac1c0002row5_col8\" class=\"data row5 col8\" >0.7</td>\n",
              "                        <td id=\"T_f29a13fa_6ebc_11ec_af19_0242ac1c0002row5_col9\" class=\"data row5 col9\" >0.7</td>\n",
              "                        <td id=\"T_f29a13fa_6ebc_11ec_af19_0242ac1c0002row5_col10\" class=\"data row5 col10\" >-0.0</td>\n",
              "            </tr>\n",
              "            <tr>\n",
              "                        <th id=\"T_f29a13fa_6ebc_11ec_af19_0242ac1c0002level0_row6\" class=\"row_heading level0 row6\" >Total Bags</th>\n",
              "                        <td id=\"T_f29a13fa_6ebc_11ec_af19_0242ac1c0002row6_col0\" class=\"data row6 col0\" >-0.0</td>\n",
              "                        <td id=\"T_f29a13fa_6ebc_11ec_af19_0242ac1c0002row6_col1\" class=\"data row6 col1\" >-0.2</td>\n",
              "                        <td id=\"T_f29a13fa_6ebc_11ec_af19_0242ac1c0002row6_col2\" class=\"data row6 col2\" >1.0</td>\n",
              "                        <td id=\"T_f29a13fa_6ebc_11ec_af19_0242ac1c0002row6_col3\" class=\"data row6 col3\" >0.9</td>\n",
              "                        <td id=\"T_f29a13fa_6ebc_11ec_af19_0242ac1c0002row6_col4\" class=\"data row6 col4\" >0.9</td>\n",
              "                        <td id=\"T_f29a13fa_6ebc_11ec_af19_0242ac1c0002row6_col5\" class=\"data row6 col5\" >0.8</td>\n",
              "                        <td id=\"T_f29a13fa_6ebc_11ec_af19_0242ac1c0002row6_col6\" class=\"data row6 col6\" >1.0</td>\n",
              "                        <td id=\"T_f29a13fa_6ebc_11ec_af19_0242ac1c0002row6_col7\" class=\"data row6 col7\" >1.0</td>\n",
              "                        <td id=\"T_f29a13fa_6ebc_11ec_af19_0242ac1c0002row6_col8\" class=\"data row6 col8\" >0.9</td>\n",
              "                        <td id=\"T_f29a13fa_6ebc_11ec_af19_0242ac1c0002row6_col9\" class=\"data row6 col9\" >0.8</td>\n",
              "                        <td id=\"T_f29a13fa_6ebc_11ec_af19_0242ac1c0002row6_col10\" class=\"data row6 col10\" >0.1</td>\n",
              "            </tr>\n",
              "            <tr>\n",
              "                        <th id=\"T_f29a13fa_6ebc_11ec_af19_0242ac1c0002level0_row7\" class=\"row_heading level0 row7\" >Small Bags</th>\n",
              "                        <td id=\"T_f29a13fa_6ebc_11ec_af19_0242ac1c0002row7_col0\" class=\"data row7 col0\" >0.0</td>\n",
              "                        <td id=\"T_f29a13fa_6ebc_11ec_af19_0242ac1c0002row7_col1\" class=\"data row7 col1\" >-0.2</td>\n",
              "                        <td id=\"T_f29a13fa_6ebc_11ec_af19_0242ac1c0002row7_col2\" class=\"data row7 col2\" >1.0</td>\n",
              "                        <td id=\"T_f29a13fa_6ebc_11ec_af19_0242ac1c0002row7_col3\" class=\"data row7 col3\" >0.9</td>\n",
              "                        <td id=\"T_f29a13fa_6ebc_11ec_af19_0242ac1c0002row7_col4\" class=\"data row7 col4\" >0.9</td>\n",
              "                        <td id=\"T_f29a13fa_6ebc_11ec_af19_0242ac1c0002row7_col5\" class=\"data row7 col5\" >0.8</td>\n",
              "                        <td id=\"T_f29a13fa_6ebc_11ec_af19_0242ac1c0002row7_col6\" class=\"data row7 col6\" >1.0</td>\n",
              "                        <td id=\"T_f29a13fa_6ebc_11ec_af19_0242ac1c0002row7_col7\" class=\"data row7 col7\" >1.0</td>\n",
              "                        <td id=\"T_f29a13fa_6ebc_11ec_af19_0242ac1c0002row7_col8\" class=\"data row7 col8\" >0.9</td>\n",
              "                        <td id=\"T_f29a13fa_6ebc_11ec_af19_0242ac1c0002row7_col9\" class=\"data row7 col9\" >0.8</td>\n",
              "                        <td id=\"T_f29a13fa_6ebc_11ec_af19_0242ac1c0002row7_col10\" class=\"data row7 col10\" >0.1</td>\n",
              "            </tr>\n",
              "            <tr>\n",
              "                        <th id=\"T_f29a13fa_6ebc_11ec_af19_0242ac1c0002level0_row8\" class=\"row_heading level0 row8\" >Large Bags</th>\n",
              "                        <td id=\"T_f29a13fa_6ebc_11ec_af19_0242ac1c0002row8_col0\" class=\"data row8 col0\" >-0.0</td>\n",
              "                        <td id=\"T_f29a13fa_6ebc_11ec_af19_0242ac1c0002row8_col1\" class=\"data row8 col1\" >-0.2</td>\n",
              "                        <td id=\"T_f29a13fa_6ebc_11ec_af19_0242ac1c0002row8_col2\" class=\"data row8 col2\" >0.9</td>\n",
              "                        <td id=\"T_f29a13fa_6ebc_11ec_af19_0242ac1c0002row8_col3\" class=\"data row8 col3\" >0.8</td>\n",
              "                        <td id=\"T_f29a13fa_6ebc_11ec_af19_0242ac1c0002row8_col4\" class=\"data row8 col4\" >0.8</td>\n",
              "                        <td id=\"T_f29a13fa_6ebc_11ec_af19_0242ac1c0002row8_col5\" class=\"data row8 col5\" >0.7</td>\n",
              "                        <td id=\"T_f29a13fa_6ebc_11ec_af19_0242ac1c0002row8_col6\" class=\"data row8 col6\" >0.9</td>\n",
              "                        <td id=\"T_f29a13fa_6ebc_11ec_af19_0242ac1c0002row8_col7\" class=\"data row8 col7\" >0.9</td>\n",
              "                        <td id=\"T_f29a13fa_6ebc_11ec_af19_0242ac1c0002row8_col8\" class=\"data row8 col8\" >1.0</td>\n",
              "                        <td id=\"T_f29a13fa_6ebc_11ec_af19_0242ac1c0002row8_col9\" class=\"data row8 col9\" >0.7</td>\n",
              "                        <td id=\"T_f29a13fa_6ebc_11ec_af19_0242ac1c0002row8_col10\" class=\"data row8 col10\" >0.1</td>\n",
              "            </tr>\n",
              "            <tr>\n",
              "                        <th id=\"T_f29a13fa_6ebc_11ec_af19_0242ac1c0002level0_row9\" class=\"row_heading level0 row9\" >XLarge Bags</th>\n",
              "                        <td id=\"T_f29a13fa_6ebc_11ec_af19_0242ac1c0002row9_col0\" class=\"data row9 col0\" >-0.0</td>\n",
              "                        <td id=\"T_f29a13fa_6ebc_11ec_af19_0242ac1c0002row9_col1\" class=\"data row9 col1\" >-0.1</td>\n",
              "                        <td id=\"T_f29a13fa_6ebc_11ec_af19_0242ac1c0002row9_col2\" class=\"data row9 col2\" >0.7</td>\n",
              "                        <td id=\"T_f29a13fa_6ebc_11ec_af19_0242ac1c0002row9_col3\" class=\"data row9 col3\" >0.7</td>\n",
              "                        <td id=\"T_f29a13fa_6ebc_11ec_af19_0242ac1c0002row9_col4\" class=\"data row9 col4\" >0.7</td>\n",
              "                        <td id=\"T_f29a13fa_6ebc_11ec_af19_0242ac1c0002row9_col5\" class=\"data row9 col5\" >0.7</td>\n",
              "                        <td id=\"T_f29a13fa_6ebc_11ec_af19_0242ac1c0002row9_col6\" class=\"data row9 col6\" >0.8</td>\n",
              "                        <td id=\"T_f29a13fa_6ebc_11ec_af19_0242ac1c0002row9_col7\" class=\"data row9 col7\" >0.8</td>\n",
              "                        <td id=\"T_f29a13fa_6ebc_11ec_af19_0242ac1c0002row9_col8\" class=\"data row9 col8\" >0.7</td>\n",
              "                        <td id=\"T_f29a13fa_6ebc_11ec_af19_0242ac1c0002row9_col9\" class=\"data row9 col9\" >1.0</td>\n",
              "                        <td id=\"T_f29a13fa_6ebc_11ec_af19_0242ac1c0002row9_col10\" class=\"data row9 col10\" >0.1</td>\n",
              "            </tr>\n",
              "            <tr>\n",
              "                        <th id=\"T_f29a13fa_6ebc_11ec_af19_0242ac1c0002level0_row10\" class=\"row_heading level0 row10\" >year</th>\n",
              "                        <td id=\"T_f29a13fa_6ebc_11ec_af19_0242ac1c0002row10_col0\" class=\"data row10 col0\" >-0.2</td>\n",
              "                        <td id=\"T_f29a13fa_6ebc_11ec_af19_0242ac1c0002row10_col1\" class=\"data row10 col1\" >0.1</td>\n",
              "                        <td id=\"T_f29a13fa_6ebc_11ec_af19_0242ac1c0002row10_col2\" class=\"data row10 col2\" >0.0</td>\n",
              "                        <td id=\"T_f29a13fa_6ebc_11ec_af19_0242ac1c0002row10_col3\" class=\"data row10 col3\" >0.0</td>\n",
              "                        <td id=\"T_f29a13fa_6ebc_11ec_af19_0242ac1c0002row10_col4\" class=\"data row10 col4\" >-0.0</td>\n",
              "                        <td id=\"T_f29a13fa_6ebc_11ec_af19_0242ac1c0002row10_col5\" class=\"data row10 col5\" >-0.0</td>\n",
              "                        <td id=\"T_f29a13fa_6ebc_11ec_af19_0242ac1c0002row10_col6\" class=\"data row10 col6\" >0.1</td>\n",
              "                        <td id=\"T_f29a13fa_6ebc_11ec_af19_0242ac1c0002row10_col7\" class=\"data row10 col7\" >0.1</td>\n",
              "                        <td id=\"T_f29a13fa_6ebc_11ec_af19_0242ac1c0002row10_col8\" class=\"data row10 col8\" >0.1</td>\n",
              "                        <td id=\"T_f29a13fa_6ebc_11ec_af19_0242ac1c0002row10_col9\" class=\"data row10 col9\" >0.1</td>\n",
              "                        <td id=\"T_f29a13fa_6ebc_11ec_af19_0242ac1c0002row10_col10\" class=\"data row10 col10\" >1.0</td>\n",
              "            </tr>\n",
              "    </tbody></table>"
            ],
            "text/plain": [
              "<pandas.io.formats.style.Styler at 0x7faa657ea350>"
            ]
          },
          "metadata": {},
          "execution_count": 57
        }
      ]
    },
    {
      "cell_type": "code",
      "source": [
        "x = df.drop(columns='4046')\n",
        "y = df['4046']"
      ],
      "metadata": {
        "id": "TOZ0yUaNJ3eb"
      },
      "execution_count": 59,
      "outputs": []
    },
    {
      "cell_type": "code",
      "source": [
        "x_train, x_test, y_train, y_test = train_test_split(x, y, test_size=0.2, random_state=0)"
      ],
      "metadata": {
        "id": "xxbzAw6HLGAt"
      },
      "execution_count": 62,
      "outputs": []
    },
    {
      "cell_type": "code",
      "source": [
        "print(x_train.shape)\n",
        "print(y_train.shape)\n",
        "print(x_test.shape)\n",
        "print(y_test.shape)"
      ],
      "metadata": {
        "colab": {
          "base_uri": "https://localhost:8080/"
        },
        "id": "oVLp8FGqNdyA",
        "outputId": "5b4b36e2-6dcf-4c21-9443-078e08974f0a"
      },
      "execution_count": 63,
      "outputs": [
        {
          "output_type": "stream",
          "name": "stdout",
          "text": [
            "(14599, 13)\n",
            "(14599,)\n",
            "(3650, 13)\n",
            "(3650,)\n"
          ]
        }
      ]
    },
    {
      "cell_type": "code",
      "source": [
        "lin_reg = LinearRegression()"
      ],
      "metadata": {
        "id": "z8WK2DZpN0AP"
      },
      "execution_count": 64,
      "outputs": []
    },
    {
      "cell_type": "code",
      "source": [
        "# lin_reg.fit(x_train, y_train)\n",
        "\n",
        "coef_dict = {\n",
        "    'features': x.columns,\n",
        "    'coef_value': lin_reg.coef_\n",
        "}\n",
        "coef = pd.DataFrame(coef_dict, columns=['features', 'coef_value'])\n",
        "coef"
      ],
      "metadata": {
        "colab": {
          "base_uri": "https://localhost:8080/",
          "height": 235
        },
        "id": "BxdW4ugJN_Is",
        "outputId": "63fb4f73-8092-4ba2-e408-4019a8944660"
      },
      "execution_count": 74,
      "outputs": [
        {
          "output_type": "error",
          "ename": "AttributeError",
          "evalue": "ignored",
          "traceback": [
            "\u001b[0;31m---------------------------------------------------------------------------\u001b[0m",
            "\u001b[0;31mAttributeError\u001b[0m                            Traceback (most recent call last)",
            "\u001b[0;32m<ipython-input-74-364201e4676b>\u001b[0m in \u001b[0;36m<module>\u001b[0;34m()\u001b[0m\n\u001b[1;32m      3\u001b[0m coef_dict = {\n\u001b[1;32m      4\u001b[0m     \u001b[0;34m'features'\u001b[0m\u001b[0;34m:\u001b[0m \u001b[0mx\u001b[0m\u001b[0;34m.\u001b[0m\u001b[0mcolumns\u001b[0m\u001b[0;34m,\u001b[0m\u001b[0;34m\u001b[0m\u001b[0;34m\u001b[0m\u001b[0m\n\u001b[0;32m----> 5\u001b[0;31m     \u001b[0;34m'coef_value'\u001b[0m\u001b[0;34m:\u001b[0m \u001b[0mlin_reg\u001b[0m\u001b[0;34m.\u001b[0m\u001b[0mcoef_\u001b[0m\u001b[0;34m\u001b[0m\u001b[0;34m\u001b[0m\u001b[0m\n\u001b[0m\u001b[1;32m      6\u001b[0m }\n\u001b[1;32m      7\u001b[0m \u001b[0mcoef\u001b[0m \u001b[0;34m=\u001b[0m \u001b[0mpd\u001b[0m\u001b[0;34m.\u001b[0m\u001b[0mDataFrame\u001b[0m\u001b[0;34m(\u001b[0m\u001b[0mcoef_dict\u001b[0m\u001b[0;34m,\u001b[0m \u001b[0mcolumns\u001b[0m\u001b[0;34m=\u001b[0m\u001b[0;34m[\u001b[0m\u001b[0;34m'features'\u001b[0m\u001b[0;34m,\u001b[0m \u001b[0;34m'coef_value'\u001b[0m\u001b[0;34m]\u001b[0m\u001b[0;34m)\u001b[0m\u001b[0;34m\u001b[0m\u001b[0;34m\u001b[0m\u001b[0m\n",
            "\u001b[0;31mAttributeError\u001b[0m: 'LinearRegression' object has no attribute 'coef_'"
          ]
        }
      ]
    },
    {
      "cell_type": "code",
      "source": [
        "y_pred = lin_reg.predict(x_test)"
      ],
      "metadata": {
        "colab": {
          "base_uri": "https://localhost:8080/",
          "height": 311
        },
        "id": "Qal5JUcSQHZQ",
        "outputId": "68a3ddb2-16ee-4876-a5fd-84afd9b1d92f"
      },
      "execution_count": 71,
      "outputs": [
        {
          "output_type": "error",
          "ename": "ValueError",
          "evalue": "ignored",
          "traceback": [
            "\u001b[0;31m---------------------------------------------------------------------------\u001b[0m",
            "\u001b[0;31mValueError\u001b[0m                                Traceback (most recent call last)",
            "\u001b[0;32m<ipython-input-71-7e80ac2dc638>\u001b[0m in \u001b[0;36m<module>\u001b[0;34m()\u001b[0m\n\u001b[0;32m----> 1\u001b[0;31m \u001b[0my_pred\u001b[0m \u001b[0;34m=\u001b[0m \u001b[0mlin_reg\u001b[0m\u001b[0;34m.\u001b[0m\u001b[0mpredict\u001b[0m\u001b[0;34m(\u001b[0m\u001b[0mx_test\u001b[0m\u001b[0;34m)\u001b[0m\u001b[0;34m\u001b[0m\u001b[0;34m\u001b[0m\u001b[0m\n\u001b[0m",
            "\u001b[0;32m/usr/local/lib/python3.7/dist-packages/sklearn/linear_model/_base.py\u001b[0m in \u001b[0;36mpredict\u001b[0;34m(self, X)\u001b[0m\n\u001b[1;32m    360\u001b[0m             \u001b[0mReturns\u001b[0m \u001b[0mpredicted\u001b[0m \u001b[0mvalues\u001b[0m\u001b[0;34m.\u001b[0m\u001b[0;34m\u001b[0m\u001b[0;34m\u001b[0m\u001b[0m\n\u001b[1;32m    361\u001b[0m         \"\"\"\n\u001b[0;32m--> 362\u001b[0;31m         \u001b[0;32mreturn\u001b[0m \u001b[0mself\u001b[0m\u001b[0;34m.\u001b[0m\u001b[0m_decision_function\u001b[0m\u001b[0;34m(\u001b[0m\u001b[0mX\u001b[0m\u001b[0;34m)\u001b[0m\u001b[0;34m\u001b[0m\u001b[0;34m\u001b[0m\u001b[0m\n\u001b[0m\u001b[1;32m    363\u001b[0m \u001b[0;34m\u001b[0m\u001b[0m\n\u001b[1;32m    364\u001b[0m     \u001b[0m_preprocess_data\u001b[0m \u001b[0;34m=\u001b[0m \u001b[0mstaticmethod\u001b[0m\u001b[0;34m(\u001b[0m\u001b[0m_preprocess_data\u001b[0m\u001b[0;34m)\u001b[0m\u001b[0;34m\u001b[0m\u001b[0;34m\u001b[0m\u001b[0m\n",
            "\u001b[0;32m/usr/local/lib/python3.7/dist-packages/sklearn/linear_model/_base.py\u001b[0m in \u001b[0;36m_decision_function\u001b[0;34m(self, X)\u001b[0m\n\u001b[1;32m    343\u001b[0m         \u001b[0mcheck_is_fitted\u001b[0m\u001b[0;34m(\u001b[0m\u001b[0mself\u001b[0m\u001b[0;34m)\u001b[0m\u001b[0;34m\u001b[0m\u001b[0;34m\u001b[0m\u001b[0m\n\u001b[1;32m    344\u001b[0m \u001b[0;34m\u001b[0m\u001b[0m\n\u001b[0;32m--> 345\u001b[0;31m         \u001b[0mX\u001b[0m \u001b[0;34m=\u001b[0m \u001b[0mself\u001b[0m\u001b[0;34m.\u001b[0m\u001b[0m_validate_data\u001b[0m\u001b[0;34m(\u001b[0m\u001b[0mX\u001b[0m\u001b[0;34m,\u001b[0m \u001b[0maccept_sparse\u001b[0m\u001b[0;34m=\u001b[0m\u001b[0;34m[\u001b[0m\u001b[0;34m\"csr\"\u001b[0m\u001b[0;34m,\u001b[0m \u001b[0;34m\"csc\"\u001b[0m\u001b[0;34m,\u001b[0m \u001b[0;34m\"coo\"\u001b[0m\u001b[0;34m]\u001b[0m\u001b[0;34m,\u001b[0m \u001b[0mreset\u001b[0m\u001b[0;34m=\u001b[0m\u001b[0;32mFalse\u001b[0m\u001b[0;34m)\u001b[0m\u001b[0;34m\u001b[0m\u001b[0;34m\u001b[0m\u001b[0m\n\u001b[0m\u001b[1;32m    346\u001b[0m         \u001b[0;32mreturn\u001b[0m \u001b[0msafe_sparse_dot\u001b[0m\u001b[0;34m(\u001b[0m\u001b[0mX\u001b[0m\u001b[0;34m,\u001b[0m \u001b[0mself\u001b[0m\u001b[0;34m.\u001b[0m\u001b[0mcoef_\u001b[0m\u001b[0;34m.\u001b[0m\u001b[0mT\u001b[0m\u001b[0;34m,\u001b[0m \u001b[0mdense_output\u001b[0m\u001b[0;34m=\u001b[0m\u001b[0;32mTrue\u001b[0m\u001b[0;34m)\u001b[0m \u001b[0;34m+\u001b[0m \u001b[0mself\u001b[0m\u001b[0;34m.\u001b[0m\u001b[0mintercept_\u001b[0m\u001b[0;34m\u001b[0m\u001b[0;34m\u001b[0m\u001b[0m\n\u001b[1;32m    347\u001b[0m \u001b[0;34m\u001b[0m\u001b[0m\n",
            "\u001b[0;32m/usr/local/lib/python3.7/dist-packages/sklearn/base.py\u001b[0m in \u001b[0;36m_validate_data\u001b[0;34m(self, X, y, reset, validate_separately, **check_params)\u001b[0m\n\u001b[1;32m    559\u001b[0m             \u001b[0;32mraise\u001b[0m \u001b[0mValueError\u001b[0m\u001b[0;34m(\u001b[0m\u001b[0;34m\"Validation should be done on X, y or both.\"\u001b[0m\u001b[0;34m)\u001b[0m\u001b[0;34m\u001b[0m\u001b[0;34m\u001b[0m\u001b[0m\n\u001b[1;32m    560\u001b[0m         \u001b[0;32melif\u001b[0m \u001b[0;32mnot\u001b[0m \u001b[0mno_val_X\u001b[0m \u001b[0;32mand\u001b[0m \u001b[0mno_val_y\u001b[0m\u001b[0;34m:\u001b[0m\u001b[0;34m\u001b[0m\u001b[0;34m\u001b[0m\u001b[0m\n\u001b[0;32m--> 561\u001b[0;31m             \u001b[0mX\u001b[0m \u001b[0;34m=\u001b[0m \u001b[0mcheck_array\u001b[0m\u001b[0;34m(\u001b[0m\u001b[0mX\u001b[0m\u001b[0;34m,\u001b[0m \u001b[0;34m**\u001b[0m\u001b[0mcheck_params\u001b[0m\u001b[0;34m)\u001b[0m\u001b[0;34m\u001b[0m\u001b[0;34m\u001b[0m\u001b[0m\n\u001b[0m\u001b[1;32m    562\u001b[0m             \u001b[0mout\u001b[0m \u001b[0;34m=\u001b[0m \u001b[0mX\u001b[0m\u001b[0;34m\u001b[0m\u001b[0;34m\u001b[0m\u001b[0m\n\u001b[1;32m    563\u001b[0m         \u001b[0;32melif\u001b[0m \u001b[0mno_val_X\u001b[0m \u001b[0;32mand\u001b[0m \u001b[0;32mnot\u001b[0m \u001b[0mno_val_y\u001b[0m\u001b[0;34m:\u001b[0m\u001b[0;34m\u001b[0m\u001b[0;34m\u001b[0m\u001b[0m\n",
            "\u001b[0;32m/usr/local/lib/python3.7/dist-packages/sklearn/utils/validation.py\u001b[0m in \u001b[0;36mcheck_array\u001b[0;34m(array, accept_sparse, accept_large_sparse, dtype, order, copy, force_all_finite, ensure_2d, allow_nd, ensure_min_samples, ensure_min_features, estimator)\u001b[0m\n\u001b[1;32m    736\u001b[0m                     \u001b[0marray\u001b[0m \u001b[0;34m=\u001b[0m \u001b[0marray\u001b[0m\u001b[0;34m.\u001b[0m\u001b[0mastype\u001b[0m\u001b[0;34m(\u001b[0m\u001b[0mdtype\u001b[0m\u001b[0;34m,\u001b[0m \u001b[0mcasting\u001b[0m\u001b[0;34m=\u001b[0m\u001b[0;34m\"unsafe\"\u001b[0m\u001b[0;34m,\u001b[0m \u001b[0mcopy\u001b[0m\u001b[0;34m=\u001b[0m\u001b[0;32mFalse\u001b[0m\u001b[0;34m)\u001b[0m\u001b[0;34m\u001b[0m\u001b[0;34m\u001b[0m\u001b[0m\n\u001b[1;32m    737\u001b[0m                 \u001b[0;32melse\u001b[0m\u001b[0;34m:\u001b[0m\u001b[0;34m\u001b[0m\u001b[0;34m\u001b[0m\u001b[0m\n\u001b[0;32m--> 738\u001b[0;31m                     \u001b[0marray\u001b[0m \u001b[0;34m=\u001b[0m \u001b[0mnp\u001b[0m\u001b[0;34m.\u001b[0m\u001b[0masarray\u001b[0m\u001b[0;34m(\u001b[0m\u001b[0marray\u001b[0m\u001b[0;34m,\u001b[0m \u001b[0morder\u001b[0m\u001b[0;34m=\u001b[0m\u001b[0morder\u001b[0m\u001b[0;34m,\u001b[0m \u001b[0mdtype\u001b[0m\u001b[0;34m=\u001b[0m\u001b[0mdtype\u001b[0m\u001b[0;34m)\u001b[0m\u001b[0;34m\u001b[0m\u001b[0;34m\u001b[0m\u001b[0m\n\u001b[0m\u001b[1;32m    739\u001b[0m             \u001b[0;32mexcept\u001b[0m \u001b[0mComplexWarning\u001b[0m \u001b[0;32mas\u001b[0m \u001b[0mcomplex_warning\u001b[0m\u001b[0;34m:\u001b[0m\u001b[0;34m\u001b[0m\u001b[0;34m\u001b[0m\u001b[0m\n\u001b[1;32m    740\u001b[0m                 raise ValueError(\n",
            "\u001b[0;32m/usr/local/lib/python3.7/dist-packages/numpy/core/_asarray.py\u001b[0m in \u001b[0;36masarray\u001b[0;34m(a, dtype, order)\u001b[0m\n\u001b[1;32m     81\u001b[0m \u001b[0;34m\u001b[0m\u001b[0m\n\u001b[1;32m     82\u001b[0m     \"\"\"\n\u001b[0;32m---> 83\u001b[0;31m     \u001b[0;32mreturn\u001b[0m \u001b[0marray\u001b[0m\u001b[0;34m(\u001b[0m\u001b[0ma\u001b[0m\u001b[0;34m,\u001b[0m \u001b[0mdtype\u001b[0m\u001b[0;34m,\u001b[0m \u001b[0mcopy\u001b[0m\u001b[0;34m=\u001b[0m\u001b[0;32mFalse\u001b[0m\u001b[0;34m,\u001b[0m \u001b[0morder\u001b[0m\u001b[0;34m=\u001b[0m\u001b[0morder\u001b[0m\u001b[0;34m)\u001b[0m\u001b[0;34m\u001b[0m\u001b[0;34m\u001b[0m\u001b[0m\n\u001b[0m\u001b[1;32m     84\u001b[0m \u001b[0;34m\u001b[0m\u001b[0m\n\u001b[1;32m     85\u001b[0m \u001b[0;34m\u001b[0m\u001b[0m\n",
            "\u001b[0;32m/usr/local/lib/python3.7/dist-packages/pandas/core/generic.py\u001b[0m in \u001b[0;36m__array__\u001b[0;34m(self, dtype)\u001b[0m\n\u001b[1;32m   1779\u001b[0m \u001b[0;34m\u001b[0m\u001b[0m\n\u001b[1;32m   1780\u001b[0m     \u001b[0;32mdef\u001b[0m \u001b[0m__array__\u001b[0m\u001b[0;34m(\u001b[0m\u001b[0mself\u001b[0m\u001b[0;34m,\u001b[0m \u001b[0mdtype\u001b[0m\u001b[0;34m=\u001b[0m\u001b[0;32mNone\u001b[0m\u001b[0;34m)\u001b[0m \u001b[0;34m->\u001b[0m \u001b[0mnp\u001b[0m\u001b[0;34m.\u001b[0m\u001b[0mndarray\u001b[0m\u001b[0;34m:\u001b[0m\u001b[0;34m\u001b[0m\u001b[0;34m\u001b[0m\u001b[0m\n\u001b[0;32m-> 1781\u001b[0;31m         \u001b[0;32mreturn\u001b[0m \u001b[0mnp\u001b[0m\u001b[0;34m.\u001b[0m\u001b[0masarray\u001b[0m\u001b[0;34m(\u001b[0m\u001b[0mself\u001b[0m\u001b[0;34m.\u001b[0m\u001b[0m_values\u001b[0m\u001b[0;34m,\u001b[0m \u001b[0mdtype\u001b[0m\u001b[0;34m=\u001b[0m\u001b[0mdtype\u001b[0m\u001b[0;34m)\u001b[0m\u001b[0;34m\u001b[0m\u001b[0;34m\u001b[0m\u001b[0m\n\u001b[0m\u001b[1;32m   1782\u001b[0m \u001b[0;34m\u001b[0m\u001b[0m\n\u001b[1;32m   1783\u001b[0m     \u001b[0;32mdef\u001b[0m \u001b[0m__array_wrap__\u001b[0m\u001b[0;34m(\u001b[0m\u001b[0mself\u001b[0m\u001b[0;34m,\u001b[0m \u001b[0mresult\u001b[0m\u001b[0;34m,\u001b[0m \u001b[0mcontext\u001b[0m\u001b[0;34m=\u001b[0m\u001b[0;32mNone\u001b[0m\u001b[0;34m)\u001b[0m\u001b[0;34m:\u001b[0m\u001b[0;34m\u001b[0m\u001b[0;34m\u001b[0m\u001b[0m\n",
            "\u001b[0;32m/usr/local/lib/python3.7/dist-packages/numpy/core/_asarray.py\u001b[0m in \u001b[0;36masarray\u001b[0;34m(a, dtype, order)\u001b[0m\n\u001b[1;32m     81\u001b[0m \u001b[0;34m\u001b[0m\u001b[0m\n\u001b[1;32m     82\u001b[0m     \"\"\"\n\u001b[0;32m---> 83\u001b[0;31m     \u001b[0;32mreturn\u001b[0m \u001b[0marray\u001b[0m\u001b[0;34m(\u001b[0m\u001b[0ma\u001b[0m\u001b[0;34m,\u001b[0m \u001b[0mdtype\u001b[0m\u001b[0;34m,\u001b[0m \u001b[0mcopy\u001b[0m\u001b[0;34m=\u001b[0m\u001b[0;32mFalse\u001b[0m\u001b[0;34m,\u001b[0m \u001b[0morder\u001b[0m\u001b[0;34m=\u001b[0m\u001b[0morder\u001b[0m\u001b[0;34m)\u001b[0m\u001b[0;34m\u001b[0m\u001b[0;34m\u001b[0m\u001b[0m\n\u001b[0m\u001b[1;32m     84\u001b[0m \u001b[0;34m\u001b[0m\u001b[0m\n\u001b[1;32m     85\u001b[0m \u001b[0;34m\u001b[0m\u001b[0m\n",
            "\u001b[0;31mValueError\u001b[0m: could not convert string to float: '2015-12-06'"
          ]
        }
      ]
    },
    {
      "cell_type": "code",
      "source": [
        "lin_reg.score(x_test, y_test)"
      ],
      "metadata": {
        "colab": {
          "base_uri": "https://localhost:8080/",
          "height": 311
        },
        "id": "6BkvDFcnQfhp",
        "outputId": "9e329bd6-c163-4305-d168-377359858a38"
      },
      "execution_count": 72,
      "outputs": [
        {
          "output_type": "error",
          "ename": "ValueError",
          "evalue": "ignored",
          "traceback": [
            "\u001b[0;31m---------------------------------------------------------------------------\u001b[0m",
            "\u001b[0;31mValueError\u001b[0m                                Traceback (most recent call last)",
            "\u001b[0;32m<ipython-input-72-fc37ec2c80b6>\u001b[0m in \u001b[0;36m<module>\u001b[0;34m()\u001b[0m\n\u001b[0;32m----> 1\u001b[0;31m \u001b[0mlin_reg\u001b[0m\u001b[0;34m.\u001b[0m\u001b[0mscore\u001b[0m\u001b[0;34m(\u001b[0m\u001b[0mx_test\u001b[0m\u001b[0;34m,\u001b[0m \u001b[0my_test\u001b[0m\u001b[0;34m)\u001b[0m\u001b[0;34m\u001b[0m\u001b[0;34m\u001b[0m\u001b[0m\n\u001b[0m",
            "\u001b[0;32m/usr/local/lib/python3.7/dist-packages/sklearn/base.py\u001b[0m in \u001b[0;36mscore\u001b[0;34m(self, X, y, sample_weight)\u001b[0m\n\u001b[1;32m    698\u001b[0m         \u001b[0;32mfrom\u001b[0m \u001b[0;34m.\u001b[0m\u001b[0mmetrics\u001b[0m \u001b[0;32mimport\u001b[0m \u001b[0mr2_score\u001b[0m\u001b[0;34m\u001b[0m\u001b[0;34m\u001b[0m\u001b[0m\n\u001b[1;32m    699\u001b[0m \u001b[0;34m\u001b[0m\u001b[0m\n\u001b[0;32m--> 700\u001b[0;31m         \u001b[0my_pred\u001b[0m \u001b[0;34m=\u001b[0m \u001b[0mself\u001b[0m\u001b[0;34m.\u001b[0m\u001b[0mpredict\u001b[0m\u001b[0;34m(\u001b[0m\u001b[0mX\u001b[0m\u001b[0;34m)\u001b[0m\u001b[0;34m\u001b[0m\u001b[0;34m\u001b[0m\u001b[0m\n\u001b[0m\u001b[1;32m    701\u001b[0m         \u001b[0;32mreturn\u001b[0m \u001b[0mr2_score\u001b[0m\u001b[0;34m(\u001b[0m\u001b[0my\u001b[0m\u001b[0;34m,\u001b[0m \u001b[0my_pred\u001b[0m\u001b[0;34m,\u001b[0m \u001b[0msample_weight\u001b[0m\u001b[0;34m=\u001b[0m\u001b[0msample_weight\u001b[0m\u001b[0;34m)\u001b[0m\u001b[0;34m\u001b[0m\u001b[0;34m\u001b[0m\u001b[0m\n\u001b[1;32m    702\u001b[0m \u001b[0;34m\u001b[0m\u001b[0m\n",
            "\u001b[0;32m/usr/local/lib/python3.7/dist-packages/sklearn/linear_model/_base.py\u001b[0m in \u001b[0;36mpredict\u001b[0;34m(self, X)\u001b[0m\n\u001b[1;32m    360\u001b[0m             \u001b[0mReturns\u001b[0m \u001b[0mpredicted\u001b[0m \u001b[0mvalues\u001b[0m\u001b[0;34m.\u001b[0m\u001b[0;34m\u001b[0m\u001b[0;34m\u001b[0m\u001b[0m\n\u001b[1;32m    361\u001b[0m         \"\"\"\n\u001b[0;32m--> 362\u001b[0;31m         \u001b[0;32mreturn\u001b[0m \u001b[0mself\u001b[0m\u001b[0;34m.\u001b[0m\u001b[0m_decision_function\u001b[0m\u001b[0;34m(\u001b[0m\u001b[0mX\u001b[0m\u001b[0;34m)\u001b[0m\u001b[0;34m\u001b[0m\u001b[0;34m\u001b[0m\u001b[0m\n\u001b[0m\u001b[1;32m    363\u001b[0m \u001b[0;34m\u001b[0m\u001b[0m\n\u001b[1;32m    364\u001b[0m     \u001b[0m_preprocess_data\u001b[0m \u001b[0;34m=\u001b[0m \u001b[0mstaticmethod\u001b[0m\u001b[0;34m(\u001b[0m\u001b[0m_preprocess_data\u001b[0m\u001b[0;34m)\u001b[0m\u001b[0;34m\u001b[0m\u001b[0;34m\u001b[0m\u001b[0m\n",
            "\u001b[0;32m/usr/local/lib/python3.7/dist-packages/sklearn/linear_model/_base.py\u001b[0m in \u001b[0;36m_decision_function\u001b[0;34m(self, X)\u001b[0m\n\u001b[1;32m    343\u001b[0m         \u001b[0mcheck_is_fitted\u001b[0m\u001b[0;34m(\u001b[0m\u001b[0mself\u001b[0m\u001b[0;34m)\u001b[0m\u001b[0;34m\u001b[0m\u001b[0;34m\u001b[0m\u001b[0m\n\u001b[1;32m    344\u001b[0m \u001b[0;34m\u001b[0m\u001b[0m\n\u001b[0;32m--> 345\u001b[0;31m         \u001b[0mX\u001b[0m \u001b[0;34m=\u001b[0m \u001b[0mself\u001b[0m\u001b[0;34m.\u001b[0m\u001b[0m_validate_data\u001b[0m\u001b[0;34m(\u001b[0m\u001b[0mX\u001b[0m\u001b[0;34m,\u001b[0m \u001b[0maccept_sparse\u001b[0m\u001b[0;34m=\u001b[0m\u001b[0;34m[\u001b[0m\u001b[0;34m\"csr\"\u001b[0m\u001b[0;34m,\u001b[0m \u001b[0;34m\"csc\"\u001b[0m\u001b[0;34m,\u001b[0m \u001b[0;34m\"coo\"\u001b[0m\u001b[0;34m]\u001b[0m\u001b[0;34m,\u001b[0m \u001b[0mreset\u001b[0m\u001b[0;34m=\u001b[0m\u001b[0;32mFalse\u001b[0m\u001b[0;34m)\u001b[0m\u001b[0;34m\u001b[0m\u001b[0;34m\u001b[0m\u001b[0m\n\u001b[0m\u001b[1;32m    346\u001b[0m         \u001b[0;32mreturn\u001b[0m \u001b[0msafe_sparse_dot\u001b[0m\u001b[0;34m(\u001b[0m\u001b[0mX\u001b[0m\u001b[0;34m,\u001b[0m \u001b[0mself\u001b[0m\u001b[0;34m.\u001b[0m\u001b[0mcoef_\u001b[0m\u001b[0;34m.\u001b[0m\u001b[0mT\u001b[0m\u001b[0;34m,\u001b[0m \u001b[0mdense_output\u001b[0m\u001b[0;34m=\u001b[0m\u001b[0;32mTrue\u001b[0m\u001b[0;34m)\u001b[0m \u001b[0;34m+\u001b[0m \u001b[0mself\u001b[0m\u001b[0;34m.\u001b[0m\u001b[0mintercept_\u001b[0m\u001b[0;34m\u001b[0m\u001b[0;34m\u001b[0m\u001b[0m\n\u001b[1;32m    347\u001b[0m \u001b[0;34m\u001b[0m\u001b[0m\n",
            "\u001b[0;32m/usr/local/lib/python3.7/dist-packages/sklearn/base.py\u001b[0m in \u001b[0;36m_validate_data\u001b[0;34m(self, X, y, reset, validate_separately, **check_params)\u001b[0m\n\u001b[1;32m    559\u001b[0m             \u001b[0;32mraise\u001b[0m \u001b[0mValueError\u001b[0m\u001b[0;34m(\u001b[0m\u001b[0;34m\"Validation should be done on X, y or both.\"\u001b[0m\u001b[0;34m)\u001b[0m\u001b[0;34m\u001b[0m\u001b[0;34m\u001b[0m\u001b[0m\n\u001b[1;32m    560\u001b[0m         \u001b[0;32melif\u001b[0m \u001b[0;32mnot\u001b[0m \u001b[0mno_val_X\u001b[0m \u001b[0;32mand\u001b[0m \u001b[0mno_val_y\u001b[0m\u001b[0;34m:\u001b[0m\u001b[0;34m\u001b[0m\u001b[0;34m\u001b[0m\u001b[0m\n\u001b[0;32m--> 561\u001b[0;31m             \u001b[0mX\u001b[0m \u001b[0;34m=\u001b[0m \u001b[0mcheck_array\u001b[0m\u001b[0;34m(\u001b[0m\u001b[0mX\u001b[0m\u001b[0;34m,\u001b[0m \u001b[0;34m**\u001b[0m\u001b[0mcheck_params\u001b[0m\u001b[0;34m)\u001b[0m\u001b[0;34m\u001b[0m\u001b[0;34m\u001b[0m\u001b[0m\n\u001b[0m\u001b[1;32m    562\u001b[0m             \u001b[0mout\u001b[0m \u001b[0;34m=\u001b[0m \u001b[0mX\u001b[0m\u001b[0;34m\u001b[0m\u001b[0;34m\u001b[0m\u001b[0m\n\u001b[1;32m    563\u001b[0m         \u001b[0;32melif\u001b[0m \u001b[0mno_val_X\u001b[0m \u001b[0;32mand\u001b[0m \u001b[0;32mnot\u001b[0m \u001b[0mno_val_y\u001b[0m\u001b[0;34m:\u001b[0m\u001b[0;34m\u001b[0m\u001b[0;34m\u001b[0m\u001b[0m\n",
            "\u001b[0;32m/usr/local/lib/python3.7/dist-packages/sklearn/utils/validation.py\u001b[0m in \u001b[0;36mcheck_array\u001b[0;34m(array, accept_sparse, accept_large_sparse, dtype, order, copy, force_all_finite, ensure_2d, allow_nd, ensure_min_samples, ensure_min_features, estimator)\u001b[0m\n\u001b[1;32m    736\u001b[0m                     \u001b[0marray\u001b[0m \u001b[0;34m=\u001b[0m \u001b[0marray\u001b[0m\u001b[0;34m.\u001b[0m\u001b[0mastype\u001b[0m\u001b[0;34m(\u001b[0m\u001b[0mdtype\u001b[0m\u001b[0;34m,\u001b[0m \u001b[0mcasting\u001b[0m\u001b[0;34m=\u001b[0m\u001b[0;34m\"unsafe\"\u001b[0m\u001b[0;34m,\u001b[0m \u001b[0mcopy\u001b[0m\u001b[0;34m=\u001b[0m\u001b[0;32mFalse\u001b[0m\u001b[0;34m)\u001b[0m\u001b[0;34m\u001b[0m\u001b[0;34m\u001b[0m\u001b[0m\n\u001b[1;32m    737\u001b[0m                 \u001b[0;32melse\u001b[0m\u001b[0;34m:\u001b[0m\u001b[0;34m\u001b[0m\u001b[0;34m\u001b[0m\u001b[0m\n\u001b[0;32m--> 738\u001b[0;31m                     \u001b[0marray\u001b[0m \u001b[0;34m=\u001b[0m \u001b[0mnp\u001b[0m\u001b[0;34m.\u001b[0m\u001b[0masarray\u001b[0m\u001b[0;34m(\u001b[0m\u001b[0marray\u001b[0m\u001b[0;34m,\u001b[0m \u001b[0morder\u001b[0m\u001b[0;34m=\u001b[0m\u001b[0morder\u001b[0m\u001b[0;34m,\u001b[0m \u001b[0mdtype\u001b[0m\u001b[0;34m=\u001b[0m\u001b[0mdtype\u001b[0m\u001b[0;34m)\u001b[0m\u001b[0;34m\u001b[0m\u001b[0;34m\u001b[0m\u001b[0m\n\u001b[0m\u001b[1;32m    739\u001b[0m             \u001b[0;32mexcept\u001b[0m \u001b[0mComplexWarning\u001b[0m \u001b[0;32mas\u001b[0m \u001b[0mcomplex_warning\u001b[0m\u001b[0;34m:\u001b[0m\u001b[0;34m\u001b[0m\u001b[0;34m\u001b[0m\u001b[0m\n\u001b[1;32m    740\u001b[0m                 raise ValueError(\n",
            "\u001b[0;32m/usr/local/lib/python3.7/dist-packages/numpy/core/_asarray.py\u001b[0m in \u001b[0;36masarray\u001b[0;34m(a, dtype, order)\u001b[0m\n\u001b[1;32m     81\u001b[0m \u001b[0;34m\u001b[0m\u001b[0m\n\u001b[1;32m     82\u001b[0m     \"\"\"\n\u001b[0;32m---> 83\u001b[0;31m     \u001b[0;32mreturn\u001b[0m \u001b[0marray\u001b[0m\u001b[0;34m(\u001b[0m\u001b[0ma\u001b[0m\u001b[0;34m,\u001b[0m \u001b[0mdtype\u001b[0m\u001b[0;34m,\u001b[0m \u001b[0mcopy\u001b[0m\u001b[0;34m=\u001b[0m\u001b[0;32mFalse\u001b[0m\u001b[0;34m,\u001b[0m \u001b[0morder\u001b[0m\u001b[0;34m=\u001b[0m\u001b[0morder\u001b[0m\u001b[0;34m)\u001b[0m\u001b[0;34m\u001b[0m\u001b[0;34m\u001b[0m\u001b[0m\n\u001b[0m\u001b[1;32m     84\u001b[0m \u001b[0;34m\u001b[0m\u001b[0m\n\u001b[1;32m     85\u001b[0m \u001b[0;34m\u001b[0m\u001b[0m\n",
            "\u001b[0;32m/usr/local/lib/python3.7/dist-packages/pandas/core/generic.py\u001b[0m in \u001b[0;36m__array__\u001b[0;34m(self, dtype)\u001b[0m\n\u001b[1;32m   1779\u001b[0m \u001b[0;34m\u001b[0m\u001b[0m\n\u001b[1;32m   1780\u001b[0m     \u001b[0;32mdef\u001b[0m \u001b[0m__array__\u001b[0m\u001b[0;34m(\u001b[0m\u001b[0mself\u001b[0m\u001b[0;34m,\u001b[0m \u001b[0mdtype\u001b[0m\u001b[0;34m=\u001b[0m\u001b[0;32mNone\u001b[0m\u001b[0;34m)\u001b[0m \u001b[0;34m->\u001b[0m \u001b[0mnp\u001b[0m\u001b[0;34m.\u001b[0m\u001b[0mndarray\u001b[0m\u001b[0;34m:\u001b[0m\u001b[0;34m\u001b[0m\u001b[0;34m\u001b[0m\u001b[0m\n\u001b[0;32m-> 1781\u001b[0;31m         \u001b[0;32mreturn\u001b[0m \u001b[0mnp\u001b[0m\u001b[0;34m.\u001b[0m\u001b[0masarray\u001b[0m\u001b[0;34m(\u001b[0m\u001b[0mself\u001b[0m\u001b[0;34m.\u001b[0m\u001b[0m_values\u001b[0m\u001b[0;34m,\u001b[0m \u001b[0mdtype\u001b[0m\u001b[0;34m=\u001b[0m\u001b[0mdtype\u001b[0m\u001b[0;34m)\u001b[0m\u001b[0;34m\u001b[0m\u001b[0;34m\u001b[0m\u001b[0m\n\u001b[0m\u001b[1;32m   1782\u001b[0m \u001b[0;34m\u001b[0m\u001b[0m\n\u001b[1;32m   1783\u001b[0m     \u001b[0;32mdef\u001b[0m \u001b[0m__array_wrap__\u001b[0m\u001b[0;34m(\u001b[0m\u001b[0mself\u001b[0m\u001b[0;34m,\u001b[0m \u001b[0mresult\u001b[0m\u001b[0;34m,\u001b[0m \u001b[0mcontext\u001b[0m\u001b[0;34m=\u001b[0m\u001b[0;32mNone\u001b[0m\u001b[0;34m)\u001b[0m\u001b[0;34m:\u001b[0m\u001b[0;34m\u001b[0m\u001b[0;34m\u001b[0m\u001b[0m\n",
            "\u001b[0;32m/usr/local/lib/python3.7/dist-packages/numpy/core/_asarray.py\u001b[0m in \u001b[0;36masarray\u001b[0;34m(a, dtype, order)\u001b[0m\n\u001b[1;32m     81\u001b[0m \u001b[0;34m\u001b[0m\u001b[0m\n\u001b[1;32m     82\u001b[0m     \"\"\"\n\u001b[0;32m---> 83\u001b[0;31m     \u001b[0;32mreturn\u001b[0m \u001b[0marray\u001b[0m\u001b[0;34m(\u001b[0m\u001b[0ma\u001b[0m\u001b[0;34m,\u001b[0m \u001b[0mdtype\u001b[0m\u001b[0;34m,\u001b[0m \u001b[0mcopy\u001b[0m\u001b[0;34m=\u001b[0m\u001b[0;32mFalse\u001b[0m\u001b[0;34m,\u001b[0m \u001b[0morder\u001b[0m\u001b[0;34m=\u001b[0m\u001b[0morder\u001b[0m\u001b[0;34m)\u001b[0m\u001b[0;34m\u001b[0m\u001b[0;34m\u001b[0m\u001b[0m\n\u001b[0m\u001b[1;32m     84\u001b[0m \u001b[0;34m\u001b[0m\u001b[0m\n\u001b[1;32m     85\u001b[0m \u001b[0;34m\u001b[0m\u001b[0m\n",
            "\u001b[0;31mValueError\u001b[0m: could not convert string to float: '2015-12-06'"
          ]
        }
      ]
    }
  ]
}